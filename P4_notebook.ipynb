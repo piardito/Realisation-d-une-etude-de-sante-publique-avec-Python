{
 "cells": [
  {
   "cell_type": "code",
   "execution_count": 1,
   "id": "2b63522b",
   "metadata": {},
   "outputs": [],
   "source": [
    "import pandas as pd\n",
    "import numpy as np\n",
    "import matplotlib.pyplot as plt\n",
    "import seaborn as sns \n",
    "import csv"
   ]
  },
  {
   "cell_type": "markdown",
   "id": "a6503b3d",
   "metadata": {},
   "source": [
    "# Préparation des données\n"
   ]
  },
  {
   "cell_type": "code",
   "execution_count": 2,
   "id": "5f775ea7",
   "metadata": {},
   "outputs": [],
   "source": [
    "aalim=pd.read_csv(r\"C:\\Users\\piard\\OneDrive\\Documents\\Projet 4\\DAN-P4-FAO\\aide_alimentaire.csv\")"
   ]
  },
  {
   "cell_type": "code",
   "execution_count": 3,
   "id": "f0e258ae",
   "metadata": {},
   "outputs": [],
   "source": [
    "pop=pd.read_csv(r\"C:\\Users\\piard\\OneDrive\\Documents\\Projet 4\\DAN-P4-FAO\\population.csv\")"
   ]
  },
  {
   "cell_type": "code",
   "execution_count": 4,
   "id": "cfd87dee",
   "metadata": {},
   "outputs": [
    {
     "data": {
      "text/plain": [
       "(1416, 3)"
      ]
     },
     "execution_count": 4,
     "metadata": {},
     "output_type": "execute_result"
    }
   ],
   "source": [
    "pop.shape\n"
   ]
  },
  {
   "cell_type": "code",
   "execution_count": 5,
   "id": "48213e71",
   "metadata": {},
   "outputs": [
    {
     "name": "stderr",
     "output_type": "stream",
     "text": [
      "NumExpr defaulting to 8 threads.\n"
     ]
    }
   ],
   "source": [
    "pop2017=pop[pop['Année']==2017]"
   ]
  },
  {
   "cell_type": "code",
   "execution_count": 6,
   "id": "64cd286f",
   "metadata": {},
   "outputs": [],
   "source": [
    "sn=pd.read_csv(r\"C:\\Users\\piard\\OneDrive\\Documents\\Projet 4\\DAN-P4-FAO\\sous_nutrition.csv\")"
   ]
  },
  {
   "cell_type": "code",
   "execution_count": 7,
   "id": "e2907857",
   "metadata": {},
   "outputs": [],
   "source": [
    "snp=pd.read_csv(r\"C:\\Users\\piard\\OneDrive\\Documents\\Projet 4\\DAN-P4-FAO\\sous_nutrition.csv\")"
   ]
  },
  {
   "cell_type": "code",
   "execution_count": 8,
   "id": "b2c1614e",
   "metadata": {},
   "outputs": [
    {
     "data": {
      "text/plain": [
       "(1218, 3)"
      ]
     },
     "execution_count": 8,
     "metadata": {},
     "output_type": "execute_result"
    }
   ],
   "source": [
    "sn.shape"
   ]
  },
  {
   "cell_type": "code",
   "execution_count": 9,
   "id": "0665e472",
   "metadata": {},
   "outputs": [],
   "source": [
    "#Supprime les lignes contenant les valeurs <0.1\n",
    "sn=sn[sn['Valeur']!='<0.1']"
   ]
  },
  {
   "cell_type": "code",
   "execution_count": 10,
   "id": "96bb9f63",
   "metadata": {},
   "outputs": [],
   "source": [
    "#Remplace les valeurs <0.1 par 0.1\n",
    "snp=snp.replace(['<0.1'],0.1)"
   ]
  },
  {
   "cell_type": "code",
   "execution_count": 11,
   "id": "bcd317d8",
   "metadata": {},
   "outputs": [],
   "source": [
    "# Changement des valeurs dans la colonne année du dataset sous nutrition\n",
    "sn['Année']=sn['Année'].map({'2012-2014':'2013','2013-2015':'2014','2014-2016':'2015','2015-2017':'2016','2016-2018':'2017','2017-2019':'2018'})"
   ]
  },
  {
   "cell_type": "code",
   "execution_count": 12,
   "id": "83d89ddb",
   "metadata": {},
   "outputs": [],
   "source": [
    "#Population en sous nutrition pour l'année 2017\n",
    "sn2017=sn[sn['Année']=='2017']"
   ]
  },
  {
   "cell_type": "code",
   "execution_count": 13,
   "id": "7ca84f77",
   "metadata": {},
   "outputs": [],
   "source": [
    "snp['Année']=snp['Année'].map({'2012-2014':'2013','2013-2015':'2014','2014-2016':'2015','2015-2017':'2016','2016-2018':'2017','2017-2019':'2018'})"
   ]
  },
  {
   "cell_type": "code",
   "execution_count": 14,
   "id": "25cc045d",
   "metadata": {},
   "outputs": [],
   "source": [
    "snp2017=snp[snp['Année']=='2017']"
   ]
  },
  {
   "cell_type": "code",
   "execution_count": 15,
   "id": "ddd7ca1d",
   "metadata": {},
   "outputs": [],
   "source": [
    "da=pd.read_csv(r\"C:\\Users\\piard\\OneDrive\\Documents\\Projet 4\\DAN-P4-FAO\\dispo_alimentaire.csv\")"
   ]
  },
  {
   "cell_type": "code",
   "execution_count": 16,
   "id": "3ea2f070",
   "metadata": {},
   "outputs": [
    {
     "data": {
      "text/html": [
       "<div><div id=4471ff52-ba69-4bc4-ba54-5e7aa94ffecc style=\"display:none; background-color:#9D6CFF; color:white; width:200px; height:30px; padding-left:5px; border-radius:4px; flex-direction:row; justify-content:space-around; align-items:center;\" onmouseover=\"this.style.backgroundColor='#BA9BF8'\" onmouseout=\"this.style.backgroundColor='#9D6CFF'\" onclick=\"window.commands?.execute('create-mitosheet-from-dataframe-output');\">See Full Dataframe in Mito</div> <script> if (window.commands.hasCommand('create-mitosheet-from-dataframe-output')) document.getElementById('4471ff52-ba69-4bc4-ba54-5e7aa94ffecc').style.display = 'flex' </script> <table border=\"1\" class=\"dataframe\">\n",
       "  <thead>\n",
       "    <tr style=\"text-align: right;\">\n",
       "      <th></th>\n",
       "      <th>Aliments pour animaux</th>\n",
       "      <th>Autres Utilisations</th>\n",
       "      <th>Disponibilité alimentaire (Kcal/personne/jour)</th>\n",
       "      <th>Disponibilité alimentaire en quantité (kg/personne/an)</th>\n",
       "      <th>Disponibilité de matière grasse en quantité (g/personne/jour)</th>\n",
       "      <th>Disponibilité de protéines en quantité (g/personne/jour)</th>\n",
       "      <th>Disponibilité intérieure</th>\n",
       "      <th>Exportations - Quantité</th>\n",
       "      <th>Importations - Quantité</th>\n",
       "      <th>Nourriture</th>\n",
       "      <th>Pertes</th>\n",
       "      <th>Production</th>\n",
       "      <th>Semences</th>\n",
       "      <th>Traitement</th>\n",
       "      <th>Variation de stock</th>\n",
       "    </tr>\n",
       "  </thead>\n",
       "  <tbody>\n",
       "    <tr>\n",
       "      <th>count</th>\n",
       "      <td>2720.000000</td>\n",
       "      <td>5496.000000</td>\n",
       "      <td>14241.000000</td>\n",
       "      <td>14015.000000</td>\n",
       "      <td>11794.000000</td>\n",
       "      <td>11561.000000</td>\n",
       "      <td>15382.000000</td>\n",
       "      <td>12226.000000</td>\n",
       "      <td>14852.000000</td>\n",
       "      <td>14015.000000</td>\n",
       "      <td>4278.000000</td>\n",
       "      <td>9180.000000</td>\n",
       "      <td>2091.000000</td>\n",
       "      <td>2292.000000</td>\n",
       "      <td>6776.000000</td>\n",
       "    </tr>\n",
       "    <tr>\n",
       "      <th>mean</th>\n",
       "      <td>479.501838</td>\n",
       "      <td>157.391376</td>\n",
       "      <td>34.789832</td>\n",
       "      <td>8.719368</td>\n",
       "      <td>1.283111</td>\n",
       "      <td>1.223608</td>\n",
       "      <td>640.293460</td>\n",
       "      <td>110.596925</td>\n",
       "      <td>87.264543</td>\n",
       "      <td>347.931359</td>\n",
       "      <td>106.053763</td>\n",
       "      <td>1090.379085</td>\n",
       "      <td>73.974653</td>\n",
       "      <td>961.905323</td>\n",
       "      <td>-15.407615</td>\n",
       "    </tr>\n",
       "    <tr>\n",
       "      <th>std</th>\n",
       "      <td>4240.119637</td>\n",
       "      <td>5076.785816</td>\n",
       "      <td>107.287655</td>\n",
       "      <td>24.618223</td>\n",
       "      <td>3.680399</td>\n",
       "      <td>3.598686</td>\n",
       "      <td>9067.267153</td>\n",
       "      <td>1053.318990</td>\n",
       "      <td>717.372714</td>\n",
       "      <td>4475.704458</td>\n",
       "      <td>1113.100416</td>\n",
       "      <td>12067.344094</td>\n",
       "      <td>528.069224</td>\n",
       "      <td>10381.795904</td>\n",
       "      <td>549.834540</td>\n",
       "    </tr>\n",
       "    <tr>\n",
       "      <th>min</th>\n",
       "      <td>0.000000</td>\n",
       "      <td>0.000000</td>\n",
       "      <td>-21.000000</td>\n",
       "      <td>-1.930000</td>\n",
       "      <td>-0.030000</td>\n",
       "      <td>-0.370000</td>\n",
       "      <td>-3430.000000</td>\n",
       "      <td>-41.000000</td>\n",
       "      <td>-201.000000</td>\n",
       "      <td>-246.000000</td>\n",
       "      <td>0.000000</td>\n",
       "      <td>0.000000</td>\n",
       "      <td>0.000000</td>\n",
       "      <td>-19.000000</td>\n",
       "      <td>-39863.000000</td>\n",
       "    </tr>\n",
       "    <tr>\n",
       "      <th>25%</th>\n",
       "      <td>0.000000</td>\n",
       "      <td>0.000000</td>\n",
       "      <td>0.000000</td>\n",
       "      <td>0.060000</td>\n",
       "      <td>0.010000</td>\n",
       "      <td>0.010000</td>\n",
       "      <td>0.000000</td>\n",
       "      <td>0.000000</td>\n",
       "      <td>0.000000</td>\n",
       "      <td>0.000000</td>\n",
       "      <td>0.000000</td>\n",
       "      <td>2.000000</td>\n",
       "      <td>0.000000</td>\n",
       "      <td>0.000000</td>\n",
       "      <td>0.000000</td>\n",
       "    </tr>\n",
       "    <tr>\n",
       "      <th>50%</th>\n",
       "      <td>4.000000</td>\n",
       "      <td>0.000000</td>\n",
       "      <td>4.000000</td>\n",
       "      <td>0.830000</td>\n",
       "      <td>0.080000</td>\n",
       "      <td>0.100000</td>\n",
       "      <td>7.000000</td>\n",
       "      <td>0.000000</td>\n",
       "      <td>2.000000</td>\n",
       "      <td>5.000000</td>\n",
       "      <td>4.000000</td>\n",
       "      <td>22.000000</td>\n",
       "      <td>2.000000</td>\n",
       "      <td>6.000000</td>\n",
       "      <td>0.000000</td>\n",
       "    </tr>\n",
       "    <tr>\n",
       "      <th>75%</th>\n",
       "      <td>74.000000</td>\n",
       "      <td>4.000000</td>\n",
       "      <td>21.000000</td>\n",
       "      <td>5.190000</td>\n",
       "      <td>0.630000</td>\n",
       "      <td>0.660000</td>\n",
       "      <td>76.750000</td>\n",
       "      <td>9.000000</td>\n",
       "      <td>18.000000</td>\n",
       "      <td>52.000000</td>\n",
       "      <td>26.000000</td>\n",
       "      <td>191.250000</td>\n",
       "      <td>17.000000</td>\n",
       "      <td>69.000000</td>\n",
       "      <td>0.000000</td>\n",
       "    </tr>\n",
       "    <tr>\n",
       "      <th>max</th>\n",
       "      <td>150000.000000</td>\n",
       "      <td>347309.000000</td>\n",
       "      <td>1711.000000</td>\n",
       "      <td>430.760000</td>\n",
       "      <td>60.760000</td>\n",
       "      <td>54.970000</td>\n",
       "      <td>739267.000000</td>\n",
       "      <td>42797.000000</td>\n",
       "      <td>63381.000000</td>\n",
       "      <td>426850.000000</td>\n",
       "      <td>55047.000000</td>\n",
       "      <td>739267.000000</td>\n",
       "      <td>17060.000000</td>\n",
       "      <td>326711.000000</td>\n",
       "      <td>5284.000000</td>\n",
       "    </tr>\n",
       "  </tbody>\n",
       "</table></div>"
      ],
      "text/plain": [
       "       Aliments pour animaux  Autres Utilisations  \\\n",
       "count            2720.000000          5496.000000   \n",
       "mean              479.501838           157.391376   \n",
       "std              4240.119637          5076.785816   \n",
       "min                 0.000000             0.000000   \n",
       "25%                 0.000000             0.000000   \n",
       "50%                 4.000000             0.000000   \n",
       "75%                74.000000             4.000000   \n",
       "max            150000.000000        347309.000000   \n",
       "\n",
       "       Disponibilité alimentaire (Kcal/personne/jour)  \\\n",
       "count                                    14241.000000   \n",
       "mean                                        34.789832   \n",
       "std                                        107.287655   \n",
       "min                                        -21.000000   \n",
       "25%                                          0.000000   \n",
       "50%                                          4.000000   \n",
       "75%                                         21.000000   \n",
       "max                                       1711.000000   \n",
       "\n",
       "       Disponibilité alimentaire en quantité (kg/personne/an)  \\\n",
       "count                                       14015.000000        \n",
       "mean                                            8.719368        \n",
       "std                                            24.618223        \n",
       "min                                            -1.930000        \n",
       "25%                                             0.060000        \n",
       "50%                                             0.830000        \n",
       "75%                                             5.190000        \n",
       "max                                           430.760000        \n",
       "\n",
       "       Disponibilité de matière grasse en quantité (g/personne/jour)  \\\n",
       "count                                       11794.000000               \n",
       "mean                                            1.283111               \n",
       "std                                             3.680399               \n",
       "min                                            -0.030000               \n",
       "25%                                             0.010000               \n",
       "50%                                             0.080000               \n",
       "75%                                             0.630000               \n",
       "max                                            60.760000               \n",
       "\n",
       "       Disponibilité de protéines en quantité (g/personne/jour)  \\\n",
       "count                                       11561.000000          \n",
       "mean                                            1.223608          \n",
       "std                                             3.598686          \n",
       "min                                            -0.370000          \n",
       "25%                                             0.010000          \n",
       "50%                                             0.100000          \n",
       "75%                                             0.660000          \n",
       "max                                            54.970000          \n",
       "\n",
       "       Disponibilité intérieure  Exportations - Quantité  \\\n",
       "count              15382.000000             12226.000000   \n",
       "mean                 640.293460               110.596925   \n",
       "std                 9067.267153              1053.318990   \n",
       "min                -3430.000000               -41.000000   \n",
       "25%                    0.000000                 0.000000   \n",
       "50%                    7.000000                 0.000000   \n",
       "75%                   76.750000                 9.000000   \n",
       "max               739267.000000             42797.000000   \n",
       "\n",
       "       Importations - Quantité     Nourriture        Pertes     Production  \\\n",
       "count             14852.000000   14015.000000   4278.000000    9180.000000   \n",
       "mean                 87.264543     347.931359    106.053763    1090.379085   \n",
       "std                 717.372714    4475.704458   1113.100416   12067.344094   \n",
       "min                -201.000000    -246.000000      0.000000       0.000000   \n",
       "25%                   0.000000       0.000000      0.000000       2.000000   \n",
       "50%                   2.000000       5.000000      4.000000      22.000000   \n",
       "75%                  18.000000      52.000000     26.000000     191.250000   \n",
       "max               63381.000000  426850.000000  55047.000000  739267.000000   \n",
       "\n",
       "           Semences     Traitement  Variation de stock  \n",
       "count   2091.000000    2292.000000         6776.000000  \n",
       "mean      73.974653     961.905323          -15.407615  \n",
       "std      528.069224   10381.795904          549.834540  \n",
       "min        0.000000     -19.000000       -39863.000000  \n",
       "25%        0.000000       0.000000            0.000000  \n",
       "50%        2.000000       6.000000            0.000000  \n",
       "75%       17.000000      69.000000            0.000000  \n",
       "max    17060.000000  326711.000000         5284.000000  "
      ]
     },
     "execution_count": 16,
     "metadata": {},
     "output_type": "execute_result"
    }
   ],
   "source": [
    "da.describe()"
   ]
  },
  {
   "cell_type": "code",
   "execution_count": 17,
   "id": "fdbc30b8",
   "metadata": {},
   "outputs": [],
   "source": [
    "da=da.fillna(0)"
   ]
  },
  {
   "cell_type": "code",
   "execution_count": 18,
   "id": "24488a29",
   "metadata": {},
   "outputs": [],
   "source": [
    "#Remplace les disponibilités intérieures négatives par la première équation de l'item 10\n",
    "da['Disponibilité intérieure'].mask(da['Disponibilité intérieure']<0,\n",
    "da['Aliments pour animaux']+da['Autres Utilisations']+da['Nourriture']+da['Pertes']+da['Semences']+da['Traitement'],inplace=True)"
   ]
  },
  {
   "cell_type": "code",
   "execution_count": 19,
   "id": "585923ed",
   "metadata": {},
   "outputs": [
    {
     "data": {
      "text/html": [
       "<div><div id=8593a99a-295e-4623-8062-97fab466e695 style=\"display:none; background-color:#9D6CFF; color:white; width:200px; height:30px; padding-left:5px; border-radius:4px; flex-direction:row; justify-content:space-around; align-items:center;\" onmouseover=\"this.style.backgroundColor='#BA9BF8'\" onmouseout=\"this.style.backgroundColor='#9D6CFF'\" onclick=\"window.commands?.execute('create-mitosheet-from-dataframe-output');\">See Full Dataframe in Mito</div> <script> if (window.commands.hasCommand('create-mitosheet-from-dataframe-output')) document.getElementById('8593a99a-295e-4623-8062-97fab466e695').style.display = 'flex' </script> <table border=\"1\" class=\"dataframe\">\n",
       "  <thead>\n",
       "    <tr style=\"text-align: right;\">\n",
       "      <th></th>\n",
       "      <th>Zone</th>\n",
       "      <th>Produit</th>\n",
       "      <th>Origine</th>\n",
       "      <th>Aliments pour animaux</th>\n",
       "      <th>Autres Utilisations</th>\n",
       "      <th>Disponibilité alimentaire (Kcal/personne/jour)</th>\n",
       "      <th>Disponibilité alimentaire en quantité (kg/personne/an)</th>\n",
       "      <th>Disponibilité de matière grasse en quantité (g/personne/jour)</th>\n",
       "      <th>Disponibilité de protéines en quantité (g/personne/jour)</th>\n",
       "      <th>Disponibilité intérieure</th>\n",
       "      <th>Exportations - Quantité</th>\n",
       "      <th>Importations - Quantité</th>\n",
       "      <th>Nourriture</th>\n",
       "      <th>Pertes</th>\n",
       "      <th>Production</th>\n",
       "      <th>Semences</th>\n",
       "      <th>Traitement</th>\n",
       "      <th>Variation de stock</th>\n",
       "    </tr>\n",
       "  </thead>\n",
       "  <tbody>\n",
       "    <tr>\n",
       "      <th>7029</th>\n",
       "      <td>Japon</td>\n",
       "      <td>Avoine</td>\n",
       "      <td>vegetale</td>\n",
       "      <td>50.0</td>\n",
       "      <td>1.0</td>\n",
       "      <td>-21.0</td>\n",
       "      <td>-1.93</td>\n",
       "      <td>-0.03</td>\n",
       "      <td>-0.37</td>\n",
       "      <td>-160.0</td>\n",
       "      <td>-41.0</td>\n",
       "      <td>-201.0</td>\n",
       "      <td>-246.0</td>\n",
       "      <td>0.0</td>\n",
       "      <td>0.0</td>\n",
       "      <td>0.0</td>\n",
       "      <td>35.0</td>\n",
       "      <td>0.0</td>\n",
       "    </tr>\n",
       "  </tbody>\n",
       "</table></div>"
      ],
      "text/plain": [
       "       Zone Produit   Origine  Aliments pour animaux  Autres Utilisations  \\\n",
       "7029  Japon  Avoine  vegetale                   50.0                  1.0   \n",
       "\n",
       "      Disponibilité alimentaire (Kcal/personne/jour)  \\\n",
       "7029                                           -21.0   \n",
       "\n",
       "      Disponibilité alimentaire en quantité (kg/personne/an)  \\\n",
       "7029                                              -1.93        \n",
       "\n",
       "      Disponibilité de matière grasse en quantité (g/personne/jour)  \\\n",
       "7029                                              -0.03               \n",
       "\n",
       "      Disponibilité de protéines en quantité (g/personne/jour)  \\\n",
       "7029                                              -0.37          \n",
       "\n",
       "      Disponibilité intérieure  Exportations - Quantité  \\\n",
       "7029                    -160.0                    -41.0   \n",
       "\n",
       "      Importations - Quantité  Nourriture  Pertes  Production  Semences  \\\n",
       "7029                   -201.0      -246.0     0.0         0.0       0.0   \n",
       "\n",
       "      Traitement  Variation de stock  \n",
       "7029        35.0                 0.0  "
      ]
     },
     "execution_count": 19,
     "metadata": {},
     "output_type": "execute_result"
    }
   ],
   "source": [
    "da.iloc[[7029]]"
   ]
  },
  {
   "cell_type": "code",
   "execution_count": 20,
   "id": "2d009b15",
   "metadata": {},
   "outputs": [],
   "source": [
    "da.drop(7029,0,inplace=True)"
   ]
  },
  {
   "cell_type": "code",
   "execution_count": 21,
   "id": "d355f19e",
   "metadata": {},
   "outputs": [],
   "source": [
    "cereales=pd.read_csv(r\"C:\\Users\\piard\\OneDrive\\Documents\\Projet 4\\cereales_17.csv\",sep=',')"
   ]
  },
  {
   "cell_type": "code",
   "execution_count": 22,
   "id": "7544a905",
   "metadata": {},
   "outputs": [],
   "source": [
    "cereales=cereales[~cereales['Zone'].str.contains('Chine - RAS de Macao')][['Domaine','Zone', 'Élément', 'Produit' ,'Année' ,'Unité', 'Valeur']]"
   ]
  },
  {
   "cell_type": "code",
   "execution_count": 23,
   "id": "0be34ccc",
   "metadata": {},
   "outputs": [],
   "source": [
    "cereales=cereales[~cereales['Zone'].str.contains('Chine, Taiwan Province de')][['Domaine','Zone', 'Élément', 'Produit' ,'Année' ,'Unité', 'Valeur']]"
   ]
  },
  {
   "cell_type": "code",
   "execution_count": 24,
   "id": "3809995b",
   "metadata": {},
   "outputs": [],
   "source": [
    "cereales=cereales[~cereales['Zone'].str.contains('Chine - RAS de Hong-Kong')][['Domaine','Zone', 'Élément', 'Produit' ,'Année' ,'Unité', 'Valeur']]"
   ]
  },
  {
   "cell_type": "code",
   "execution_count": 25,
   "id": "b2a4b6bb",
   "metadata": {},
   "outputs": [],
   "source": [
    "cereales=cereales[~cereales['Zone'].str.contains('Chine, continentale')][['Domaine','Zone', 'Élément', 'Produit' ,'Année' ,'Unité', 'Valeur']]"
   ]
  },
  {
   "cell_type": "markdown",
   "id": "df430de6",
   "metadata": {},
   "source": [
    "# Proportions de valeurs manquantes"
   ]
  },
  {
   "cell_type": "code",
   "execution_count": 26,
   "id": "abd4ab9b",
   "metadata": {},
   "outputs": [
    {
     "data": {
      "text/plain": [
       "Zone                                                             0.000000\n",
       "Produit                                                          0.000000\n",
       "Origine                                                          0.000000\n",
       "Disponibilité intérieure                                         0.014290\n",
       "Importations - Quantité                                          0.048254\n",
       "Disponibilité alimentaire (Kcal/personne/jour)                   0.087408\n",
       "Nourriture                                                       0.101890\n",
       "Disponibilité alimentaire en quantité (kg/personne/an)           0.101890\n",
       "Exportations - Quantité                                          0.216533\n",
       "Disponibilité de matière grasse en quantité (g/personne/jour)    0.244217\n",
       "Disponibilité de protéines en quantité (g/personne/jour)         0.259148\n",
       "Production                                                       0.411727\n",
       "Variation de stock                                               0.565780\n",
       "Autres Utilisations                                              0.647805\n",
       "Pertes                                                           0.725857\n",
       "Aliments pour animaux                                            0.825697\n",
       "Traitement                                                       0.853124\n",
       "Semences                                                         0.866004\n",
       "dtype: float64"
      ]
     },
     "execution_count": 26,
     "metadata": {},
     "output_type": "execute_result"
    }
   ],
   "source": [
    "(pd.read_csv(r\"C:\\Users\\piard\\OneDrive\\Documents\\Projet 4\\DAN-P4-FAO\\dispo_alimentaire.csv\").isna().sum()\n",
    "/pd.read_csv(r\"C:\\Users\\piard\\OneDrive\\Documents\\Projet 4\\DAN-P4-FAO\\dispo_alimentaire.csv\").shape[0]).sort_values(ascending=True)"
   ]
  },
  {
   "cell_type": "code",
   "execution_count": 27,
   "id": "1331fb16",
   "metadata": {},
   "outputs": [
    {
     "data": {
      "text/plain": [
       "Zone      0.000000\n",
       "Année     0.000000\n",
       "Valeur    0.540984\n",
       "dtype: float64"
      ]
     },
     "execution_count": 27,
     "metadata": {},
     "output_type": "execute_result"
    }
   ],
   "source": [
    "(sn.isna().sum()/sn.shape[0]).sort_values(ascending=True)"
   ]
  },
  {
   "cell_type": "code",
   "execution_count": 28,
   "id": "4f0f1c52",
   "metadata": {},
   "outputs": [
    {
     "data": {
      "text/plain": [
       "Zone      0.0\n",
       "Année     0.0\n",
       "Valeur    0.0\n",
       "dtype: float64"
      ]
     },
     "execution_count": 28,
     "metadata": {},
     "output_type": "execute_result"
    }
   ],
   "source": [
    "(pop.isna().sum()/pop.shape[0]).sort_values(ascending=True)"
   ]
  },
  {
   "cell_type": "code",
   "execution_count": 29,
   "id": "e04d4cd8",
   "metadata": {},
   "outputs": [
    {
     "data": {
      "text/plain": [
       "Pays bénéficiaire    0.0\n",
       "Année                0.0\n",
       "Produit              0.0\n",
       "Valeur               0.0\n",
       "dtype: float64"
      ]
     },
     "execution_count": 29,
     "metadata": {},
     "output_type": "execute_result"
    }
   ],
   "source": [
    "(aalim.isna().sum()/aalim.shape[0]).sort_values(ascending=True)"
   ]
  },
  {
   "cell_type": "code",
   "execution_count": 30,
   "id": "400ac32f",
   "metadata": {},
   "outputs": [
    {
     "data": {
      "text/plain": [
       "Domaine    0.0\n",
       "Zone       0.0\n",
       "Élément    0.0\n",
       "Produit    0.0\n",
       "Année      0.0\n",
       "Unité      0.0\n",
       "Valeur     0.0\n",
       "dtype: float64"
      ]
     },
     "execution_count": 30,
     "metadata": {},
     "output_type": "execute_result"
    }
   ],
   "source": [
    "(cereales.isna().sum()/cereales.shape[0]).sort_values(ascending=True)"
   ]
  },
  {
   "cell_type": "markdown",
   "id": "ff014bd1",
   "metadata": {},
   "source": [
    "# Recherche de la proportion de la population en sous-nutrition"
   ]
  },
  {
   "cell_type": "code",
   "execution_count": 31,
   "id": "602d4735",
   "metadata": {},
   "outputs": [
    {
     "data": {
      "text/plain": [
       "535699999.99999994"
      ]
     },
     "execution_count": 31,
     "metadata": {},
     "output_type": "execute_result"
    }
   ],
   "source": [
    "sn2017['Valeur'].astype(float).sum()*1000000"
   ]
  },
  {
   "cell_type": "code",
   "execution_count": 32,
   "id": "ce9ecf75",
   "metadata": {},
   "outputs": [
    {
     "data": {
      "text/plain": [
       "7.097118203283072"
      ]
     },
     "execution_count": 32,
     "metadata": {},
     "output_type": "execute_result"
    }
   ],
   "source": [
    "(sn2017['Valeur'].astype(float).sum()*1000000/(pop2017.Valeur.sum()*1000))*100"
   ]
  },
  {
   "cell_type": "markdown",
   "id": "44f1cce9",
   "metadata": {},
   "source": [
    "- Il y a environ 536 millions de personnes en sous-nutrition.\n",
    "- La proportion de la population mondiale en sous-nutrition est d'environ 7.1%."
   ]
  },
  {
   "cell_type": "code",
   "execution_count": 33,
   "id": "fe6a3971",
   "metadata": {},
   "outputs": [
    {
     "data": {
      "text/plain": [
       "537700000.0"
      ]
     },
     "execution_count": 33,
     "metadata": {},
     "output_type": "execute_result"
    }
   ],
   "source": [
    "snp2017['Valeur'].astype(float).sum()*1000000"
   ]
  },
  {
   "cell_type": "code",
   "execution_count": 34,
   "id": "03aeefc5",
   "metadata": {},
   "outputs": [
    {
     "data": {
      "text/plain": [
       "7.1236148178183845"
      ]
     },
     "execution_count": 34,
     "metadata": {},
     "output_type": "execute_result"
    }
   ],
   "source": [
    "(snp2017['Valeur'].astype(float).sum()*1000000/(pop2017.Valeur.sum()*1000))*100"
   ]
  },
  {
   "cell_type": "markdown",
   "id": "a5f45b41",
   "metadata": {},
   "source": [
    "  En remplaçant les valeurs '<0.1' par 0.1:\n",
    "- Il y a environ 538 millions de personnes en sous-nutrition.\n",
    "- La proportion de la population mondiale en sous-nutrition est d'environ 7.1%.\n"
   ]
  },
  {
   "cell_type": "markdown",
   "id": "04e86b65",
   "metadata": {},
   "source": [
    "# Recherche du Top 3 des pays ayant les plus grosses disponibilité alimentaire "
   ]
  },
  {
   "cell_type": "code",
   "execution_count": 35,
   "id": "c0e7bc1c",
   "metadata": {},
   "outputs": [],
   "source": [
    "dal=da.groupby(['Zone']).sum().reset_index().drop(columns=['Aliments pour animaux','Autres Utilisations','Disponibilité alimentaire en quantité (kg/personne/an)','Disponibilité de matière grasse en quantité (g/personne/jour)','Disponibilité de protéines en quantité (g/personne/jour)','Disponibilité intérieure','Exportations - Quantité','Importations - Quantité','Nourriture','Pertes','Production','Semences','Traitement','Variation de stock'])"
   ]
  },
  {
   "cell_type": "code",
   "execution_count": 36,
   "id": "30e9e1ec",
   "metadata": {},
   "outputs": [],
   "source": [
    "top3da=dal[dal['Disponibilité alimentaire (Kcal/personne/jour)']>3700]"
   ]
  },
  {
   "cell_type": "code",
   "execution_count": 37,
   "id": "968d0333",
   "metadata": {},
   "outputs": [
    {
     "data": {
      "text/html": [
       "<div><div id=bb7d5a86-a683-4812-afe4-e2c6911d72b6 style=\"display:none; background-color:#9D6CFF; color:white; width:200px; height:30px; padding-left:5px; border-radius:4px; flex-direction:row; justify-content:space-around; align-items:center;\" onmouseover=\"this.style.backgroundColor='#BA9BF8'\" onmouseout=\"this.style.backgroundColor='#9D6CFF'\" onclick=\"window.commands?.execute('create-mitosheet-from-dataframe-output');\">See Full Dataframe in Mito</div> <script> if (window.commands.hasCommand('create-mitosheet-from-dataframe-output')) document.getElementById('bb7d5a86-a683-4812-afe4-e2c6911d72b6').style.display = 'flex' </script> <table border=\"1\" class=\"dataframe\">\n",
       "  <thead>\n",
       "    <tr style=\"text-align: right;\">\n",
       "      <th></th>\n",
       "      <th>Zone</th>\n",
       "      <th>Disponibilité alimentaire (Kcal/personne/jour)</th>\n",
       "    </tr>\n",
       "  </thead>\n",
       "  <tbody>\n",
       "    <tr>\n",
       "      <th>11</th>\n",
       "      <td>Autriche</td>\n",
       "      <td>3770.0</td>\n",
       "    </tr>\n",
       "    <tr>\n",
       "      <th>16</th>\n",
       "      <td>Belgique</td>\n",
       "      <td>3737.0</td>\n",
       "    </tr>\n",
       "    <tr>\n",
       "      <th>159</th>\n",
       "      <td>Turquie</td>\n",
       "      <td>3708.0</td>\n",
       "    </tr>\n",
       "  </tbody>\n",
       "</table></div>"
      ],
      "text/plain": [
       "         Zone  Disponibilité alimentaire (Kcal/personne/jour)\n",
       "11   Autriche                                          3770.0\n",
       "16   Belgique                                          3737.0\n",
       "159   Turquie                                          3708.0"
      ]
     },
     "execution_count": 37,
     "metadata": {},
     "output_type": "execute_result"
    }
   ],
   "source": [
    "top3da"
   ]
  },
  {
   "cell_type": "markdown",
   "id": "61f52030",
   "metadata": {},
   "source": [
    "# Recherche des trois pays ayant les plus faibles disponibilité alimentaire"
   ]
  },
  {
   "cell_type": "code",
   "execution_count": 38,
   "id": "55d31f69",
   "metadata": {},
   "outputs": [],
   "source": [
    "daf3=dal[dal['Disponibilité alimentaire (Kcal/personne/jour)']<2060]"
   ]
  },
  {
   "cell_type": "code",
   "execution_count": 39,
   "id": "86830c2a",
   "metadata": {},
   "outputs": [
    {
     "data": {
      "text/html": [
       "<div><div id=0547d1be-1488-4593-a672-330663c33d93 style=\"display:none; background-color:#9D6CFF; color:white; width:200px; height:30px; padding-left:5px; border-radius:4px; flex-direction:row; justify-content:space-around; align-items:center;\" onmouseover=\"this.style.backgroundColor='#BA9BF8'\" onmouseout=\"this.style.backgroundColor='#9D6CFF'\" onclick=\"window.commands?.execute('create-mitosheet-from-dataframe-output');\">See Full Dataframe in Mito</div> <script> if (window.commands.hasCommand('create-mitosheet-from-dataframe-output')) document.getElementById('0547d1be-1488-4593-a672-330663c33d93').style.display = 'flex' </script> <table border=\"1\" class=\"dataframe\">\n",
       "  <thead>\n",
       "    <tr style=\"text-align: right;\">\n",
       "      <th></th>\n",
       "      <th>Zone</th>\n",
       "      <th>Disponibilité alimentaire (Kcal/personne/jour)</th>\n",
       "    </tr>\n",
       "  </thead>\n",
       "  <tbody>\n",
       "    <tr>\n",
       "      <th>128</th>\n",
       "      <td>République centrafricaine</td>\n",
       "      <td>1879.0</td>\n",
       "    </tr>\n",
       "    <tr>\n",
       "      <th>166</th>\n",
       "      <td>Zambie</td>\n",
       "      <td>1924.0</td>\n",
       "    </tr>\n",
       "    <tr>\n",
       "      <th>91</th>\n",
       "      <td>Madagascar</td>\n",
       "      <td>2056.0</td>\n",
       "    </tr>\n",
       "  </tbody>\n",
       "</table></div>"
      ],
      "text/plain": [
       "                          Zone  Disponibilité alimentaire (Kcal/personne/jour)\n",
       "128  République centrafricaine                                          1879.0\n",
       "166                     Zambie                                          1924.0\n",
       "91                  Madagascar                                          2056.0"
      ]
     },
     "execution_count": 39,
     "metadata": {},
     "output_type": "execute_result"
    }
   ],
   "source": [
    "daf3.sort_values(by='Disponibilité alimentaire (Kcal/personne/jour)',ascending=True)"
   ]
  },
  {
   "cell_type": "markdown",
   "id": "2b7ba00f",
   "metadata": {},
   "source": [
    "# Recherche des pays ayant une disponibilité alimentaire inférieure à 2000 "
   ]
  },
  {
   "cell_type": "code",
   "execution_count": 40,
   "id": "c2286e17",
   "metadata": {},
   "outputs": [
    {
     "data": {
      "text/html": [
       "<div><div id=6a85a30e-bb1b-4e8e-9e49-86f32e7ae0f1 style=\"display:none; background-color:#9D6CFF; color:white; width:200px; height:30px; padding-left:5px; border-radius:4px; flex-direction:row; justify-content:space-around; align-items:center;\" onmouseover=\"this.style.backgroundColor='#BA9BF8'\" onmouseout=\"this.style.backgroundColor='#9D6CFF'\" onclick=\"window.commands?.execute('create-mitosheet-from-dataframe-output');\">See Full Dataframe in Mito</div> <script> if (window.commands.hasCommand('create-mitosheet-from-dataframe-output')) document.getElementById('6a85a30e-bb1b-4e8e-9e49-86f32e7ae0f1').style.display = 'flex' </script> <table border=\"1\" class=\"dataframe\">\n",
       "  <thead>\n",
       "    <tr style=\"text-align: right;\">\n",
       "      <th></th>\n",
       "      <th>Zone</th>\n",
       "      <th>Disponibilité alimentaire (Kcal/personne/jour)</th>\n",
       "    </tr>\n",
       "  </thead>\n",
       "  <tbody>\n",
       "    <tr>\n",
       "      <th>128</th>\n",
       "      <td>République centrafricaine</td>\n",
       "      <td>1879.0</td>\n",
       "    </tr>\n",
       "    <tr>\n",
       "      <th>166</th>\n",
       "      <td>Zambie</td>\n",
       "      <td>1924.0</td>\n",
       "    </tr>\n",
       "  </tbody>\n",
       "</table></div>"
      ],
      "text/plain": [
       "                          Zone  Disponibilité alimentaire (Kcal/personne/jour)\n",
       "128  République centrafricaine                                          1879.0\n",
       "166                     Zambie                                          1924.0"
      ]
     },
     "execution_count": 40,
     "metadata": {},
     "output_type": "execute_result"
    }
   ],
   "source": [
    "dal[dal['Disponibilité alimentaire (Kcal/personne/jour)']<2000]"
   ]
  },
  {
   "cell_type": "markdown",
   "id": "8b1c9186",
   "metadata": {},
   "source": [
    "# Recherche des pays ayant une disponibilité alimentaire située entre 2000 et 2299 kcal/personne/jour"
   ]
  },
  {
   "cell_type": "code",
   "execution_count": 41,
   "id": "ca1cba52",
   "metadata": {},
   "outputs": [
    {
     "data": {
      "text/html": [
       "<div><div id=6295bb45-2d52-423f-bc3a-d045414494b6 style=\"display:none; background-color:#9D6CFF; color:white; width:200px; height:30px; padding-left:5px; border-radius:4px; flex-direction:row; justify-content:space-around; align-items:center;\" onmouseover=\"this.style.backgroundColor='#BA9BF8'\" onmouseout=\"this.style.backgroundColor='#9D6CFF'\" onclick=\"window.commands?.execute('create-mitosheet-from-dataframe-output');\">See Full Dataframe in Mito</div> <script> if (window.commands.hasCommand('create-mitosheet-from-dataframe-output')) document.getElementById('6295bb45-2d52-423f-bc3a-d045414494b6').style.display = 'flex' </script> <table border=\"1\" class=\"dataframe\">\n",
       "  <thead>\n",
       "    <tr style=\"text-align: right;\">\n",
       "      <th></th>\n",
       "      <th>Zone</th>\n",
       "      <th>Disponibilité alimentaire (Kcal/personne/jour)</th>\n",
       "    </tr>\n",
       "  </thead>\n",
       "  <tbody>\n",
       "    <tr>\n",
       "      <th>0</th>\n",
       "      <td>Afghanistan</td>\n",
       "      <td>2087.0</td>\n",
       "    </tr>\n",
       "    <tr>\n",
       "      <th>19</th>\n",
       "      <td>Bolivie (État plurinational de)</td>\n",
       "      <td>2250.0</td>\n",
       "    </tr>\n",
       "    <tr>\n",
       "      <th>39</th>\n",
       "      <td>Congo</td>\n",
       "      <td>2206.0</td>\n",
       "    </tr>\n",
       "    <tr>\n",
       "      <th>62</th>\n",
       "      <td>Guinée-Bissau</td>\n",
       "      <td>2288.0</td>\n",
       "    </tr>\n",
       "    <tr>\n",
       "      <th>65</th>\n",
       "      <td>Haïti</td>\n",
       "      <td>2089.0</td>\n",
       "    </tr>\n",
       "    <tr>\n",
       "      <th>...</th>\n",
       "      <td>...</td>\n",
       "      <td>...</td>\n",
       "    </tr>\n",
       "    <tr>\n",
       "      <th>151</th>\n",
       "      <td>Tchad</td>\n",
       "      <td>2109.0</td>\n",
       "    </tr>\n",
       "    <tr>\n",
       "      <th>154</th>\n",
       "      <td>Timor-Leste</td>\n",
       "      <td>2129.0</td>\n",
       "    </tr>\n",
       "    <tr>\n",
       "      <th>165</th>\n",
       "      <td>Yémen</td>\n",
       "      <td>2217.0</td>\n",
       "    </tr>\n",
       "    <tr>\n",
       "      <th>167</th>\n",
       "      <td>Zimbabwe</td>\n",
       "      <td>2113.0</td>\n",
       "    </tr>\n",
       "    <tr>\n",
       "      <th>172</th>\n",
       "      <td>Éthiopie</td>\n",
       "      <td>2129.0</td>\n",
       "    </tr>\n",
       "  </tbody>\n",
       "</table></div>"
      ],
      "text/plain": [
       "                                           Zone  \\\n",
       "0                                   Afghanistan   \n",
       "19              Bolivie (État plurinational de)   \n",
       "39                                        Congo   \n",
       "62                                Guinée-Bissau   \n",
       "65                                        Haïti   \n",
       "80                                        Kenya   \n",
       "87                                      Libéria   \n",
       "91                                   Madagascar   \n",
       "103                                  Mozambique   \n",
       "105                                     Namibie   \n",
       "114                                     Ouganda   \n",
       "127                                      Rwanda   \n",
       "133  République populaire démocratique de Corée   \n",
       "134                 République-Unie de Tanzanie   \n",
       "150                                 Tadjikistan   \n",
       "151                                       Tchad   \n",
       "154                                 Timor-Leste   \n",
       "165                                       Yémen   \n",
       "167                                    Zimbabwe   \n",
       "172                                    Éthiopie   \n",
       "\n",
       "     Disponibilité alimentaire (Kcal/personne/jour)  \n",
       "0                                            2087.0  \n",
       "19                                           2250.0  \n",
       "39                                           2206.0  \n",
       "62                                           2288.0  \n",
       "65                                           2089.0  \n",
       "80                                           2205.0  \n",
       "87                                           2206.0  \n",
       "91                                           2056.0  \n",
       "103                                          2282.0  \n",
       "105                                          2166.0  \n",
       "114                                          2126.0  \n",
       "127                                          2224.0  \n",
       "133                                          2093.0  \n",
       "134                                          2204.0  \n",
       "150                                          2199.0  \n",
       "151                                          2109.0  \n",
       "154                                          2129.0  \n",
       "165                                          2217.0  \n",
       "167                                          2113.0  \n",
       "172                                          2129.0  "
      ]
     },
     "execution_count": 41,
     "metadata": {},
     "output_type": "execute_result"
    }
   ],
   "source": [
    "dal[(dal['Disponibilité alimentaire (Kcal/personne/jour)'] > 2000) & (dal['Disponibilité alimentaire (Kcal/personne/jour)'] < 2300)]"
   ]
  },
  {
   "cell_type": "code",
   "execution_count": 42,
   "id": "d6d518cf",
   "metadata": {},
   "outputs": [
    {
     "data": {
      "text/plain": [
       "(20, 2)"
      ]
     },
     "execution_count": 42,
     "metadata": {},
     "output_type": "execute_result"
    }
   ],
   "source": [
    "dal[(dal['Disponibilité alimentaire (Kcal/personne/jour)'] > 2000) & (dal['Disponibilité alimentaire (Kcal/personne/jour)'] < 2300)].shape"
   ]
  },
  {
   "cell_type": "markdown",
   "id": "ca0d1c00",
   "metadata": {},
   "source": [
    "Il y a 20 pays."
   ]
  },
  {
   "cell_type": "markdown",
   "id": "9ab7a018",
   "metadata": {},
   "source": [
    "# Recherche de 10 pays ayant une proportion importante de sa population en sous-nutrition"
   ]
  },
  {
   "cell_type": "code",
   "execution_count": 43,
   "id": "a6e9ca25",
   "metadata": {},
   "outputs": [],
   "source": [
    "snp2017=sn2017.merge(pop2017,left_on='Zone',right_on='Zone')"
   ]
  },
  {
   "cell_type": "code",
   "execution_count": 44,
   "id": "02efe937",
   "metadata": {},
   "outputs": [],
   "source": [
    "snp2017.columns=['Pays','Année','Popsn en %','Année1','Pop']"
   ]
  },
  {
   "cell_type": "code",
   "execution_count": 45,
   "id": "597de70e",
   "metadata": {},
   "outputs": [],
   "source": [
    "sous_nutri=snp2017['Popsn en %'].astype(float)*1000000/(snp2017['Pop']*1000)*100"
   ]
  },
  {
   "cell_type": "code",
   "execution_count": 46,
   "id": "178b3b36",
   "metadata": {},
   "outputs": [],
   "source": [
    "sous_nutr=pd.concat([snp2017,sous_nutri],axis=1)"
   ]
  },
  {
   "cell_type": "code",
   "execution_count": 47,
   "id": "c078d2c1",
   "metadata": {},
   "outputs": [],
   "source": [
    "sous_nutr.columns=['Pays','Année','Popsn','Année1','Pop','Propsn en %']"
   ]
  },
  {
   "cell_type": "code",
   "execution_count": 48,
   "id": "72262082",
   "metadata": {},
   "outputs": [],
   "source": [
    "sous_nutr=sous_nutr.drop(columns=['Année1'])"
   ]
  },
  {
   "cell_type": "code",
   "execution_count": 49,
   "id": "d82f2b1d",
   "metadata": {},
   "outputs": [
    {
     "data": {
      "text/html": [
       "<div><div id=209c1012-2b5b-4bdb-b191-eac241a0e020 style=\"display:none; background-color:#9D6CFF; color:white; width:200px; height:30px; padding-left:5px; border-radius:4px; flex-direction:row; justify-content:space-around; align-items:center;\" onmouseover=\"this.style.backgroundColor='#BA9BF8'\" onmouseout=\"this.style.backgroundColor='#9D6CFF'\" onclick=\"window.commands?.execute('create-mitosheet-from-dataframe-output');\">See Full Dataframe in Mito</div> <script> if (window.commands.hasCommand('create-mitosheet-from-dataframe-output')) document.getElementById('209c1012-2b5b-4bdb-b191-eac241a0e020').style.display = 'flex' </script> <table border=\"1\" class=\"dataframe\">\n",
       "  <thead>\n",
       "    <tr style=\"text-align: right;\">\n",
       "      <th></th>\n",
       "      <th>Pays</th>\n",
       "      <th>Propsn en %</th>\n",
       "    </tr>\n",
       "  </thead>\n",
       "  <tbody>\n",
       "    <tr>\n",
       "      <th>69</th>\n",
       "      <td>Haïti</td>\n",
       "      <td>48.259182</td>\n",
       "    </tr>\n",
       "    <tr>\n",
       "      <th>142</th>\n",
       "      <td>République populaire démocratique de Corée</td>\n",
       "      <td>47.188685</td>\n",
       "    </tr>\n",
       "    <tr>\n",
       "      <th>96</th>\n",
       "      <td>Madagascar</td>\n",
       "      <td>41.062924</td>\n",
       "    </tr>\n",
       "    <tr>\n",
       "      <th>92</th>\n",
       "      <td>Libéria</td>\n",
       "      <td>38.279742</td>\n",
       "    </tr>\n",
       "    <tr>\n",
       "      <th>89</th>\n",
       "      <td>Lesotho</td>\n",
       "      <td>38.249438</td>\n",
       "    </tr>\n",
       "    <tr>\n",
       "      <th>165</th>\n",
       "      <td>Tchad</td>\n",
       "      <td>37.957606</td>\n",
       "    </tr>\n",
       "    <tr>\n",
       "      <th>146</th>\n",
       "      <td>Rwanda</td>\n",
       "      <td>35.055619</td>\n",
       "    </tr>\n",
       "    <tr>\n",
       "      <th>108</th>\n",
       "      <td>Mozambique</td>\n",
       "      <td>32.810898</td>\n",
       "    </tr>\n",
       "    <tr>\n",
       "      <th>168</th>\n",
       "      <td>Timor-Leste</td>\n",
       "      <td>32.173531</td>\n",
       "    </tr>\n",
       "    <tr>\n",
       "      <th>0</th>\n",
       "      <td>Afghanistan</td>\n",
       "      <td>28.928718</td>\n",
       "    </tr>\n",
       "  </tbody>\n",
       "</table></div>"
      ],
      "text/plain": [
       "                                           Pays  Propsn en %\n",
       "69                                        Haïti    48.259182\n",
       "142  République populaire démocratique de Corée    47.188685\n",
       "96                                   Madagascar    41.062924\n",
       "92                                      Libéria    38.279742\n",
       "89                                      Lesotho    38.249438\n",
       "165                                       Tchad    37.957606\n",
       "146                                      Rwanda    35.055619\n",
       "108                                  Mozambique    32.810898\n",
       "168                                 Timor-Leste    32.173531\n",
       "0                                   Afghanistan    28.928718"
      ]
     },
     "execution_count": 49,
     "metadata": {},
     "output_type": "execute_result"
    }
   ],
   "source": [
    "sous_nutr.sort_values(by=['Propsn en %'],ascending=False).head(10).drop(columns=['Année','Popsn','Pop'])"
   ]
  },
  {
   "cell_type": "markdown",
   "id": "ac11d58c",
   "metadata": {},
   "source": [
    "# Recherche de l'équation de la disponibilité intérieure"
   ]
  },
  {
   "cell_type": "code",
   "execution_count": 50,
   "id": "af8a6e33",
   "metadata": {},
   "outputs": [],
   "source": [
    "daBle=da[(da['Zone']=='Autriche')&(da['Produit']=='Blé')]"
   ]
  },
  {
   "cell_type": "code",
   "execution_count": 51,
   "id": "1c1e5287",
   "metadata": {},
   "outputs": [
    {
     "data": {
      "text/plain": [
       "1320.0"
      ]
     },
     "execution_count": 51,
     "metadata": {},
     "output_type": "execute_result"
    }
   ],
   "source": [
    "(daBle['Aliments pour animaux'] + daBle['Autres Utilisations']+daBle['Nourriture']+daBle['Pertes']+daBle['Semences']+daBle['Traitement']).sum()"
   ]
  },
  {
   "cell_type": "code",
   "execution_count": 52,
   "id": "67ad75ac",
   "metadata": {},
   "outputs": [
    {
     "data": {
      "text/plain": [
       "1320.0"
      ]
     },
     "execution_count": 52,
     "metadata": {},
     "output_type": "execute_result"
    }
   ],
   "source": [
    "daBle['Disponibilité intérieure'].sum()"
   ]
  },
  {
   "cell_type": "code",
   "execution_count": 53,
   "id": "f79d3de6",
   "metadata": {},
   "outputs": [
    {
     "data": {
      "text/plain": [
       "1320.0"
      ]
     },
     "execution_count": 53,
     "metadata": {},
     "output_type": "execute_result"
    }
   ],
   "source": [
    "(daBle['Production']-daBle['Exportations - Quantité']+daBle['Importations - Quantité']+daBle['Variation de stock']).sum()"
   ]
  },
  {
   "cell_type": "markdown",
   "id": "9909cdb1",
   "metadata": {},
   "source": [
    "Je remarque que :\n",
    "- Disponibilité intérieure = Aliments pour animaux + Autres Utilisations + Nourriture + Pertes + Semences + Traitement\n",
    "\n",
    "- Disponibilité intérieure = Production - Exportations + Importations + Variations de stock"
   ]
  },
  {
   "cell_type": "markdown",
   "id": "1c6ed4b3",
   "metadata": {},
   "source": [
    "# Recherche des proportions liées à la disponibilité intérieure"
   ]
  },
  {
   "cell_type": "code",
   "execution_count": 54,
   "id": "9c8fd191",
   "metadata": {},
   "outputs": [],
   "source": [
    "dint=da.groupby(['Zone']).sum()"
   ]
  },
  {
   "cell_type": "code",
   "execution_count": 55,
   "id": "b4809a5a",
   "metadata": {},
   "outputs": [],
   "source": [
    "liste=['Aliments pour animaux','Autres Utilisations','Nourriture','Pertes','Semences','Traitement','Disponibilité intérieure']\n",
    "dint1=dint[liste].sum()"
   ]
  },
  {
   "cell_type": "code",
   "execution_count": 56,
   "id": "42fb387d",
   "metadata": {},
   "outputs": [
    {
     "name": "stdout",
     "output_type": "stream",
     "text": [
      "Aliments pour animaux: 13.233684%\n",
      "Autres Utilisations: 8.777389%\n",
      "Nourriture: 49.481949%\n",
      "Pertes: 4.603679%\n",
      "Semences: 1.569550%\n",
      "Traitement: 22.370632%\n",
      "Disponibilité intérieure: 100.000000%\n"
     ]
    }
   ],
   "source": [
    "for c in liste : print('%s: %f' % (c,dint1[c]/dint1.iloc[6]*100)+ '%')"
   ]
  },
  {
   "cell_type": "markdown",
   "id": "c2ba86c4",
   "metadata": {},
   "source": [
    "- Part attribué à l'alimentation animale : 13.2%\n",
    "\n",
    "- Part attribué à l'alimentation humaine : 49.5%\n",
    "\n",
    "- Part attribué aux pertes: 4.6%"
   ]
  },
  {
   "cell_type": "code",
   "execution_count": 57,
   "id": "863e56bb",
   "metadata": {},
   "outputs": [],
   "source": [
    "l=[13.233684,8.777389,49.481949,4.603679,1.569550,22.370632]\n",
    "eti=['Aliments pour animaux','Autres Utilisations','Nourriture','Pertes','Semences','Traitement']"
   ]
  },
  {
   "cell_type": "code",
   "execution_count": 58,
   "id": "4f4df22e",
   "metadata": {},
   "outputs": [
    {
     "data": {
      "image/png": "[encoded data removed]",
      "text/plain": [
       "<Figure size 1152x576 with 1 Axes>"
      ]
     },
     "metadata": {
      "needs_background": "light"
     },
     "output_type": "display_data"
    }
   ],
   "source": [
    "fig,ax=plt.subplots(figsize=(16,8))\n",
    "ax.bar(eti,l,width=0.6)\n",
    "plt.suptitle('Répartition de la disponibilité intérieure',fontsize=25)\n",
    "plt.ylabel('Pourcentage',fontsize=20)\n",
    "plt.xticks(fontsize=15)\n",
    "plt.yticks(fontsize=15)\n",
    "\n",
    "for index,data in enumerate(l):\n",
    "    plt.text(x=index , y =data+0.5 , s=f\"{data:.2f}%\" , fontdict=dict(fontsize=16),ha='center')\n",
    "    plt.tight_layout()\n",
    "plt.show()"
   ]
  },
  {
   "cell_type": "markdown",
   "id": "1e04e3a3",
   "metadata": {},
   "source": [
    "# Recherche des proportions pour les céréales"
   ]
  },
  {
   "cell_type": "code",
   "execution_count": 59,
   "id": "3d450090",
   "metadata": {},
   "outputs": [
    {
     "data": {
      "text/plain": [
       "(19077, 7)"
      ]
     },
     "execution_count": 59,
     "metadata": {},
     "output_type": "execute_result"
    }
   ],
   "source": [
    "cereales.shape"
   ]
  },
  {
   "cell_type": "code",
   "execution_count": 60,
   "id": "4257964d",
   "metadata": {},
   "outputs": [],
   "source": [
    "cereales1=cereales.groupby(['Élément']).sum().drop(columns=['Année']).reset_index()"
   ]
  },
  {
   "cell_type": "code",
   "execution_count": 61,
   "id": "45cb8c5e",
   "metadata": {},
   "outputs": [],
   "source": [
    "sequence=[0.452037,0.331764]\n",
    "etiquettes=['Nourriture','Aliments pour animaux']"
   ]
  },
  {
   "cell_type": "code",
   "execution_count": 62,
   "id": "c429b06c",
   "metadata": {},
   "outputs": [
    {
     "name": "stdout",
     "output_type": "stream",
     "text": [
      "Nourriture:45.203697%\n",
      "Aliments pour animaux:33.176438%\n"
     ]
    }
   ],
   "source": [
    "for d in etiquettes:\n",
    "     print('%s:%f' %(d,cereales1[cereales1['Élément']== d].sum().Valeur /(cereales1[cereales1['Élément']=='Disponibilité intérieure'].sum().Valeur)*100)+'%')"
   ]
  },
  {
   "cell_type": "markdown",
   "id": "61f3d206",
   "metadata": {},
   "source": [
    "Les céreales sont utilisés à 33% pour les animaux et 45% pour les humains."
   ]
  },
  {
   "cell_type": "code",
   "execution_count": 63,
   "id": "dc5a0ed5",
   "metadata": {},
   "outputs": [
    {
     "data": {
      "image/png": "[encoded data removed]",
      "text/plain": [
       "<Figure size 576x720 with 1 Axes>"
      ]
     },
     "metadata": {},
     "output_type": "display_data"
    }
   ],
   "source": [
    "plt.figure(figsize = (8,10))\n",
    "plot = plt.pie(\n",
    "    sequence, \n",
    "    labels=etiquettes, autopct=lambda x:str(round(x, 2)) + '%',normalize=True)\n",
    "plot = plt.title('Utilisation des céréales utilisées pour nourrir')"
   ]
  },
  {
   "cell_type": "code",
   "execution_count": 64,
   "id": "81fbfa63",
   "metadata": {},
   "outputs": [
    {
     "data": {
      "image/png": "[encoded data removed]",
      "text/plain": [
       "<Figure size 720x576 with 1 Axes>"
      ]
     },
     "metadata": {
      "needs_background": "light"
     },
     "output_type": "display_data"
    }
   ],
   "source": [
    "sequences=[0.5767*100,0.4233*100]\n",
    "fig,ax=plt.subplots(figsize=(10,8))\n",
    "ax.bar(etiquettes,sequences,width=0.6)\n",
    "plt.suptitle('Utilisation des céréales utilisées pour nourrir (céréales)',fontsize=20)\n",
    "plt.ylabel('Pourcentage',fontsize=15)\n",
    "plt.xticks(fontsize=15)\n",
    "plt.yticks(fontsize=15)\n",
    "\n",
    "for index,data in enumerate(sequences):\n",
    "    plt.text(x=index , y =data+0.5 , s=f\"{data:.2f}%\" , fontdict=dict(fontsize=16),ha='center')\n",
    "    plt.tight_layout()\n",
    "plt.show()"
   ]
  },
  {
   "cell_type": "code",
   "execution_count": 65,
   "id": "e9478772",
   "metadata": {},
   "outputs": [],
   "source": [
    "Liste=[0.331764*100,0.452037*100,0.102933*100,0.049986*100,0.028233*100,0.037491*100]\n",
    "etiquette=['Aliments pour animaux','Nourriture','Autres utilisations (non alimentaire)','Pertes','Semences','Traitement']"
   ]
  },
  {
   "cell_type": "code",
   "execution_count": 66,
   "id": "5260b561",
   "metadata": {},
   "outputs": [
    {
     "name": "stdout",
     "output_type": "stream",
     "text": [
      "Aliments pour animaux:33.176438%\n",
      "Nourriture:45.203697%\n",
      "Autres utilisations (non alimentaire):10.293287%\n",
      "Pertes:4.998609%\n",
      "Semences:2.823307%\n",
      "Traitement:3.749141%\n"
     ]
    }
   ],
   "source": [
    "for k in etiquette:\n",
    "     print('%s:%f' %(k,cereales1[cereales1['Élément']== k].sum().Valeur /(cereales1[cereales1['Élément']=='Disponibilité intérieure'].sum().Valeur)*100)+'%')"
   ]
  },
  {
   "cell_type": "code",
   "execution_count": 67,
   "id": "649d3245",
   "metadata": {},
   "outputs": [
    {
     "data": {
      "image/png": "[encoded data removed]",
      "text/plain": [
       "<Figure size 1296x720 with 1 Axes>"
      ]
     },
     "metadata": {
      "needs_background": "light"
     },
     "output_type": "display_data"
    }
   ],
   "source": [
    "fig,ax=plt.subplots(figsize=(18,10))\n",
    "ax.bar(etiquette,Liste,width=0.6)\n",
    "plt.suptitle('Répartition de la disponibilité intérieure (céréales)',fontsize=30)\n",
    "plt.ylabel('Pourcentage',fontsize=20)\n",
    "plt.xticks(fontsize=15)\n",
    "plt.yticks(fontsize=15)\n",
    "\n",
    "for index,data in enumerate(Liste):\n",
    "    plt.text(x=index , y =data+0.5 , s=f\"{data:.2f}%\" , fontdict=dict(fontsize=16),ha='center')\n",
    "    plt.tight_layout()\n",
    "plt.show()"
   ]
  },
  {
   "cell_type": "markdown",
   "id": "4b0576e0",
   "metadata": {},
   "source": [
    "# Recherche des pays ayant reçu le plus d'aide alimentaire"
   ]
  },
  {
   "cell_type": "code",
   "execution_count": 68,
   "id": "838fdef7",
   "metadata": {},
   "outputs": [],
   "source": [
    "aalimpp=aalim.groupby(['Pays bénéficiaire']).sum().drop(columns=['Année'])"
   ]
  },
  {
   "cell_type": "code",
   "execution_count": 69,
   "id": "4065b3d9",
   "metadata": {
    "scrolled": true
   },
   "outputs": [
    {
     "data": {
      "text/html": [
       "<div><div id=22a3e2b9-7ced-4685-b68f-7d36b60321a6 style=\"display:none; background-color:#9D6CFF; color:white; width:200px; height:30px; padding-left:5px; border-radius:4px; flex-direction:row; justify-content:space-around; align-items:center;\" onmouseover=\"this.style.backgroundColor='#BA9BF8'\" onmouseout=\"this.style.backgroundColor='#9D6CFF'\" onclick=\"window.commands?.execute('create-mitosheet-from-dataframe-output');\">See Full Dataframe in Mito</div> <script> if (window.commands.hasCommand('create-mitosheet-from-dataframe-output')) document.getElementById('22a3e2b9-7ced-4685-b68f-7d36b60321a6').style.display = 'flex' </script> <table border=\"1\" class=\"dataframe\">\n",
       "  <thead>\n",
       "    <tr style=\"text-align: right;\">\n",
       "      <th></th>\n",
       "      <th>Pays bénéficiaire</th>\n",
       "    </tr>\n",
       "  </thead>\n",
       "  <tbody>\n",
       "    <tr>\n",
       "      <th>0</th>\n",
       "      <td>République arabe syrienne</td>\n",
       "    </tr>\n",
       "    <tr>\n",
       "      <th>1</th>\n",
       "      <td>Éthiopie</td>\n",
       "    </tr>\n",
       "    <tr>\n",
       "      <th>2</th>\n",
       "      <td>Yémen</td>\n",
       "    </tr>\n",
       "    <tr>\n",
       "      <th>3</th>\n",
       "      <td>Soudan du Sud</td>\n",
       "    </tr>\n",
       "    <tr>\n",
       "      <th>4</th>\n",
       "      <td>Soudan</td>\n",
       "    </tr>\n",
       "    <tr>\n",
       "      <th>5</th>\n",
       "      <td>Kenya</td>\n",
       "    </tr>\n",
       "    <tr>\n",
       "      <th>6</th>\n",
       "      <td>Bangladesh</td>\n",
       "    </tr>\n",
       "    <tr>\n",
       "      <th>7</th>\n",
       "      <td>Somalie</td>\n",
       "    </tr>\n",
       "    <tr>\n",
       "      <th>8</th>\n",
       "      <td>République démocratique du Congo</td>\n",
       "    </tr>\n",
       "    <tr>\n",
       "      <th>9</th>\n",
       "      <td>Niger</td>\n",
       "    </tr>\n",
       "  </tbody>\n",
       "</table></div>"
      ],
      "text/plain": [
       "                  Pays bénéficiaire\n",
       "0         République arabe syrienne\n",
       "1                          Éthiopie\n",
       "2                             Yémen\n",
       "3                     Soudan du Sud\n",
       "4                            Soudan\n",
       "5                             Kenya\n",
       "6                        Bangladesh\n",
       "7                           Somalie\n",
       "8  République démocratique du Congo\n",
       "9                             Niger"
      ]
     },
     "execution_count": 69,
     "metadata": {},
     "output_type": "execute_result"
    }
   ],
   "source": [
    "aalimpp.sort_values(by=['Valeur'],ascending=False).head(10).drop(columns=['Valeur']).reset_index()"
   ]
  },
  {
   "cell_type": "markdown",
   "id": "20a9cf41",
   "metadata": {},
   "source": [
    "Voici les 10 pays ayant reçu le plus d'aide alimentaire depuis 2013"
   ]
  },
  {
   "cell_type": "markdown",
   "id": "c14e49e2",
   "metadata": {},
   "source": [
    "# Recherche de la particularité de la Thaïlande avec le manioc"
   ]
  },
  {
   "cell_type": "code",
   "execution_count": 70,
   "id": "dc36c168",
   "metadata": {},
   "outputs": [
    {
     "data": {
      "text/html": [
       "<div><div id=eddba13d-7103-4bbe-94b1-3be298b22f35 style=\"display:none; background-color:#9D6CFF; color:white; width:200px; height:30px; padding-left:5px; border-radius:4px; flex-direction:row; justify-content:space-around; align-items:center;\" onmouseover=\"this.style.backgroundColor='#BA9BF8'\" onmouseout=\"this.style.backgroundColor='#9D6CFF'\" onclick=\"window.commands?.execute('create-mitosheet-from-dataframe-output');\">See Full Dataframe in Mito</div> <script> if (window.commands.hasCommand('create-mitosheet-from-dataframe-output')) document.getElementById('eddba13d-7103-4bbe-94b1-3be298b22f35').style.display = 'flex' </script> <table border=\"1\" class=\"dataframe\">\n",
       "  <thead>\n",
       "    <tr style=\"text-align: right;\">\n",
       "      <th></th>\n",
       "      <th>Pays</th>\n",
       "      <th>Année</th>\n",
       "      <th>Popsn</th>\n",
       "      <th>Pop</th>\n",
       "      <th>Propsn en %</th>\n",
       "    </tr>\n",
       "  </thead>\n",
       "  <tbody>\n",
       "    <tr>\n",
       "      <th>167</th>\n",
       "      <td>Thaïlande</td>\n",
       "      <td>2017</td>\n",
       "      <td>6.2</td>\n",
       "      <td>69209.81</td>\n",
       "      <td>8.958268</td>\n",
       "    </tr>\n",
       "  </tbody>\n",
       "</table></div>"
      ],
      "text/plain": [
       "          Pays Année Popsn       Pop  Propsn en %\n",
       "167  Thaïlande  2017   6.2  69209.81     8.958268"
      ]
     },
     "execution_count": 70,
     "metadata": {},
     "output_type": "execute_result"
    }
   ],
   "source": [
    "sous_nutr[sous_nutr['Pays']=='Thaïlande']"
   ]
  },
  {
   "cell_type": "code",
   "execution_count": 71,
   "id": "40038c94",
   "metadata": {},
   "outputs": [],
   "source": [
    "manioc=da[(da['Produit']=='Manioc')& (da['Zone']=='Thaïlande')]"
   ]
  },
  {
   "cell_type": "code",
   "execution_count": 72,
   "id": "5216ea28",
   "metadata": {},
   "outputs": [
    {
     "data": {
      "text/plain": [
       "83.41272991928014"
      ]
     },
     "execution_count": 72,
     "metadata": {},
     "output_type": "execute_result"
    }
   ],
   "source": [
    "(manioc.iloc[0,10]/manioc.iloc[0,14])*100"
   ]
  },
  {
   "cell_type": "markdown",
   "id": "bf50baf2",
   "metadata": {},
   "source": [
    "83 % de la production de manioc est exporté alors qu'il y a 9 % de la population en sous-nutrition."
   ]
  },
  {
   "cell_type": "markdown",
   "id": "9b605734",
   "metadata": {},
   "source": [
    "# Recherche de la particularité de l'Indonésie avec l'huile de palme"
   ]
  },
  {
   "cell_type": "code",
   "execution_count": 73,
   "id": "9831c005",
   "metadata": {},
   "outputs": [
    {
     "data": {
      "text/html": [
       "<div><div id=8a6ae6a0-7d56-437b-afa4-6474847b10e9 style=\"display:none; background-color:#9D6CFF; color:white; width:200px; height:30px; padding-left:5px; border-radius:4px; flex-direction:row; justify-content:space-around; align-items:center;\" onmouseover=\"this.style.backgroundColor='#BA9BF8'\" onmouseout=\"this.style.backgroundColor='#9D6CFF'\" onclick=\"window.commands?.execute('create-mitosheet-from-dataframe-output');\">See Full Dataframe in Mito</div> <script> if (window.commands.hasCommand('create-mitosheet-from-dataframe-output')) document.getElementById('8a6ae6a0-7d56-437b-afa4-6474847b10e9').style.display = 'flex' </script> <table border=\"1\" class=\"dataframe\">\n",
       "  <thead>\n",
       "    <tr style=\"text-align: right;\">\n",
       "      <th></th>\n",
       "      <th>Pays</th>\n",
       "      <th>Année</th>\n",
       "      <th>Popsn</th>\n",
       "      <th>Pop</th>\n",
       "      <th>Propsn en %</th>\n",
       "    </tr>\n",
       "  </thead>\n",
       "  <tbody>\n",
       "    <tr>\n",
       "      <th>75</th>\n",
       "      <td>Indonésie</td>\n",
       "      <td>2017</td>\n",
       "      <td>23.6</td>\n",
       "      <td>264650.963</td>\n",
       "      <td>8.917406</td>\n",
       "    </tr>\n",
       "  </tbody>\n",
       "</table></div>"
      ],
      "text/plain": [
       "         Pays Année Popsn         Pop  Propsn en %\n",
       "75  Indonésie  2017  23.6  264650.963     8.917406"
      ]
     },
     "execution_count": 73,
     "metadata": {},
     "output_type": "execute_result"
    }
   ],
   "source": [
    "sous_nutr[sous_nutr['Pays']=='Indonésie']"
   ]
  },
  {
   "cell_type": "code",
   "execution_count": 74,
   "id": "b921dde9",
   "metadata": {},
   "outputs": [],
   "source": [
    "huiledepalme=da[(da['Produit']=='Huile de Palme')& (da['Zone']=='Indonésie')]"
   ]
  },
  {
   "cell_type": "code",
   "execution_count": 75,
   "id": "4927451b",
   "metadata": {},
   "outputs": [
    {
     "data": {
      "text/plain": [
       "86.7526769779893"
      ]
     },
     "execution_count": 75,
     "metadata": {},
     "output_type": "execute_result"
    }
   ],
   "source": [
    "(huiledepalme.iloc[0,10]/huiledepalme.iloc[0,14])*100"
   ]
  },
  {
   "cell_type": "markdown",
   "id": "738b3cb9",
   "metadata": {},
   "source": [
    "87 % de la production de l'huile de palme est exporté alors qu'il y a  9% de la population en sous-nutrition."
   ]
  },
  {
   "cell_type": "markdown",
   "id": "317da83c",
   "metadata": {},
   "source": [
    "# Recherche des 10 produits les plus exportés et 10 produits les plus importés des pays sous alimentés."
   ]
  },
  {
   "cell_type": "code",
   "execution_count": 76,
   "id": "7e10566a",
   "metadata": {},
   "outputs": [],
   "source": [
    "export_ss_alim=da.merge(sn2017,left_on='Zone',right_on='Zone').groupby(['Produit']).sum().sort_values(by=['Exportations - Quantité'],ascending=False)"
   ]
  },
  {
   "cell_type": "code",
   "execution_count": 77,
   "id": "ddcd9938",
   "metadata": {},
   "outputs": [
    {
     "data": {
      "text/html": [
       "<div><div id=400d7dc2-f850-4e52-a099-67e6d28ae9fd style=\"display:none; background-color:#9D6CFF; color:white; width:200px; height:30px; padding-left:5px; border-radius:4px; flex-direction:row; justify-content:space-around; align-items:center;\" onmouseover=\"this.style.backgroundColor='#BA9BF8'\" onmouseout=\"this.style.backgroundColor='#9D6CFF'\" onclick=\"window.commands?.execute('create-mitosheet-from-dataframe-output');\">See Full Dataframe in Mito</div> <script> if (window.commands.hasCommand('create-mitosheet-from-dataframe-output')) document.getElementById('400d7dc2-f850-4e52-a099-67e6d28ae9fd').style.display = 'flex' </script> <table border=\"1\" class=\"dataframe\">\n",
       "  <thead>\n",
       "    <tr style=\"text-align: right;\">\n",
       "      <th></th>\n",
       "      <th>Produit</th>\n",
       "    </tr>\n",
       "  </thead>\n",
       "  <tbody>\n",
       "    <tr>\n",
       "      <th>0</th>\n",
       "      <td>Blé</td>\n",
       "    </tr>\n",
       "    <tr>\n",
       "      <th>1</th>\n",
       "      <td>Maïs</td>\n",
       "    </tr>\n",
       "    <tr>\n",
       "      <th>2</th>\n",
       "      <td>Lait - Excl Beurre</td>\n",
       "    </tr>\n",
       "    <tr>\n",
       "      <th>3</th>\n",
       "      <td>Soja</td>\n",
       "    </tr>\n",
       "    <tr>\n",
       "      <th>4</th>\n",
       "      <td>Sucre Eq Brut</td>\n",
       "    </tr>\n",
       "    <tr>\n",
       "      <th>5</th>\n",
       "      <td>Huile de Palme</td>\n",
       "    </tr>\n",
       "    <tr>\n",
       "      <th>6</th>\n",
       "      <td>Légumes, Autres</td>\n",
       "    </tr>\n",
       "    <tr>\n",
       "      <th>7</th>\n",
       "      <td>Riz (Eq Blanchi)</td>\n",
       "    </tr>\n",
       "    <tr>\n",
       "      <th>8</th>\n",
       "      <td>Orge</td>\n",
       "    </tr>\n",
       "    <tr>\n",
       "      <th>9</th>\n",
       "      <td>Oranges, Mandarines</td>\n",
       "    </tr>\n",
       "  </tbody>\n",
       "</table></div>"
      ],
      "text/plain": [
       "               Produit\n",
       "0                  Blé\n",
       "1                 Maïs\n",
       "2   Lait - Excl Beurre\n",
       "3                 Soja\n",
       "4        Sucre Eq Brut\n",
       "5       Huile de Palme\n",
       "6      Légumes, Autres\n",
       "7     Riz (Eq Blanchi)\n",
       "8                 Orge\n",
       "9  Oranges, Mandarines"
      ]
     },
     "execution_count": 77,
     "metadata": {},
     "output_type": "execute_result"
    }
   ],
   "source": [
    "export_ss_alim.drop(columns=['Aliments pour animaux','Autres Utilisations' ,'Disponibilité alimentaire (Kcal/personne/jour)' ,'Disponibilité alimentaire en quantité (kg/personne/an)','Disponibilité de matière grasse en quantité (g/personne/jour)','Disponibilité de protéines en quantité (g/personne/jour)','Disponibilité intérieure','Exportations - Quantité','Importations - Quantité','Nourriture','Pertes','Production','Semences','Traitement', 'Variation de stock']).iloc[0:10].reset_index()"
   ]
  },
  {
   "cell_type": "markdown",
   "id": "778f3130",
   "metadata": {},
   "source": [
    "Les 10 produits les plus exportés par les pays sous-alimentés."
   ]
  },
  {
   "cell_type": "code",
   "execution_count": 78,
   "id": "b823ac02",
   "metadata": {},
   "outputs": [],
   "source": [
    "importa_ss_alim=da.merge(sn2017,left_on='Zone',right_on='Zone').groupby(['Produit']).sum().sort_values(by=['Importations - Quantité'],ascending=False)"
   ]
  },
  {
   "cell_type": "code",
   "execution_count": 79,
   "id": "c4cc0d7b",
   "metadata": {},
   "outputs": [
    {
     "data": {
      "text/html": [
       "<div><div id=d57a4d17-4de1-4b4a-8d00-4817194f04ec style=\"display:none; background-color:#9D6CFF; color:white; width:200px; height:30px; padding-left:5px; border-radius:4px; flex-direction:row; justify-content:space-around; align-items:center;\" onmouseover=\"this.style.backgroundColor='#BA9BF8'\" onmouseout=\"this.style.backgroundColor='#9D6CFF'\" onclick=\"window.commands?.execute('create-mitosheet-from-dataframe-output');\">See Full Dataframe in Mito</div> <script> if (window.commands.hasCommand('create-mitosheet-from-dataframe-output')) document.getElementById('d57a4d17-4de1-4b4a-8d00-4817194f04ec').style.display = 'flex' </script> <table border=\"1\" class=\"dataframe\">\n",
       "  <thead>\n",
       "    <tr style=\"text-align: right;\">\n",
       "      <th></th>\n",
       "      <th>Produit</th>\n",
       "    </tr>\n",
       "  </thead>\n",
       "  <tbody>\n",
       "    <tr>\n",
       "      <th>0</th>\n",
       "      <td>Blé</td>\n",
       "    </tr>\n",
       "    <tr>\n",
       "      <th>1</th>\n",
       "      <td>Maïs</td>\n",
       "    </tr>\n",
       "    <tr>\n",
       "      <th>2</th>\n",
       "      <td>Lait - Excl Beurre</td>\n",
       "    </tr>\n",
       "    <tr>\n",
       "      <th>3</th>\n",
       "      <td>Soja</td>\n",
       "    </tr>\n",
       "    <tr>\n",
       "      <th>4</th>\n",
       "      <td>Sucre Eq Brut</td>\n",
       "    </tr>\n",
       "    <tr>\n",
       "      <th>5</th>\n",
       "      <td>Huile de Palme</td>\n",
       "    </tr>\n",
       "    <tr>\n",
       "      <th>6</th>\n",
       "      <td>Légumes, Autres</td>\n",
       "    </tr>\n",
       "    <tr>\n",
       "      <th>7</th>\n",
       "      <td>Manioc</td>\n",
       "    </tr>\n",
       "    <tr>\n",
       "      <th>8</th>\n",
       "      <td>Orge</td>\n",
       "    </tr>\n",
       "    <tr>\n",
       "      <th>9</th>\n",
       "      <td>Riz (Eq Blanchi)</td>\n",
       "    </tr>\n",
       "  </tbody>\n",
       "</table></div>"
      ],
      "text/plain": [
       "              Produit\n",
       "0                 Blé\n",
       "1                Maïs\n",
       "2  Lait - Excl Beurre\n",
       "3                Soja\n",
       "4       Sucre Eq Brut\n",
       "5      Huile de Palme\n",
       "6     Légumes, Autres\n",
       "7              Manioc\n",
       "8                Orge\n",
       "9    Riz (Eq Blanchi)"
      ]
     },
     "execution_count": 79,
     "metadata": {},
     "output_type": "execute_result"
    }
   ],
   "source": [
    "importa_ss_alim.drop(columns=['Aliments pour animaux','Autres Utilisations' ,'Disponibilité alimentaire (Kcal/personne/jour)' ,'Disponibilité alimentaire en quantité (kg/personne/an)','Disponibilité de matière grasse en quantité (g/personne/jour)','Disponibilité de protéines en quantité (g/personne/jour)','Disponibilité intérieure','Exportations - Quantité','Importations - Quantité','Nourriture','Pertes','Production','Semences','Traitement', 'Variation de stock']).iloc[0:10].reset_index()"
   ]
  },
  {
   "cell_type": "markdown",
   "id": "0604210f",
   "metadata": {},
   "source": [
    "Les 10 produits les plus importés par les pays sous-alimentés."
   ]
  },
  {
   "cell_type": "markdown",
   "id": "52bce5ec",
   "metadata": {},
   "source": [
    "# Recherche de la population qu'on pourrait nourrir avec la disponibilité alimentaire"
   ]
  },
  {
   "cell_type": "code",
   "execution_count": 80,
   "id": "725d8c39",
   "metadata": {},
   "outputs": [],
   "source": [
    "dap=da.groupby(['Produit']).sum()"
   ]
  },
  {
   "cell_type": "code",
   "execution_count": 81,
   "id": "3e72fc9d",
   "metadata": {},
   "outputs": [],
   "source": [
    "dap1=dap['Disponibilité alimentaire (Kcal/personne/jour)']*365/dap['Disponibilité alimentaire en quantité (kg/personne/an)']"
   ]
  },
  {
   "cell_type": "code",
   "execution_count": 82,
   "id": "0f486712",
   "metadata": {},
   "outputs": [],
   "source": [
    "dap2=pd.concat([dap,dap1],axis=1)"
   ]
  },
  {
   "cell_type": "code",
   "execution_count": 83,
   "id": "48360b05",
   "metadata": {},
   "outputs": [],
   "source": [
    "dap2.rename(columns={0 : 'ratio_kcal_kg'},inplace=True)"
   ]
  },
  {
   "cell_type": "code",
   "execution_count": 84,
   "id": "01cde9e6",
   "metadata": {},
   "outputs": [],
   "source": [
    "dap3=dap2[[\"ratio_kcal_kg\"]].sort_values(by=\"ratio_kcal_kg\", ascending=False)"
   ]
  },
  {
   "cell_type": "code",
   "execution_count": 85,
   "id": "b0af3c32",
   "metadata": {},
   "outputs": [],
   "source": [
    "dap3=dap3.drop(dap3.index[0],0)"
   ]
  },
  {
   "cell_type": "code",
   "execution_count": 86,
   "id": "a2a954c7",
   "metadata": {},
   "outputs": [],
   "source": [
    "dap3=dap3.reset_index()"
   ]
  },
  {
   "cell_type": "code",
   "execution_count": 87,
   "id": "140332fd",
   "metadata": {},
   "outputs": [
    {
     "data": {
      "text/html": [
       "<div><div id=2a7120ee-e2c0-4221-8efb-181313b4de2c style=\"display:none; background-color:#9D6CFF; color:white; width:200px; height:30px; padding-left:5px; border-radius:4px; flex-direction:row; justify-content:space-around; align-items:center;\" onmouseover=\"this.style.backgroundColor='#BA9BF8'\" onmouseout=\"this.style.backgroundColor='#9D6CFF'\" onclick=\"window.commands?.execute('create-mitosheet-from-dataframe-output');\">See Full Dataframe in Mito</div> <script> if (window.commands.hasCommand('create-mitosheet-from-dataframe-output')) document.getElementById('2a7120ee-e2c0-4221-8efb-181313b4de2c').style.display = 'flex' </script> <table border=\"1\" class=\"dataframe\">\n",
       "  <thead>\n",
       "    <tr style=\"text-align: right;\">\n",
       "      <th></th>\n",
       "      <th>Produit</th>\n",
       "      <th>ratio_kcal_kg</th>\n",
       "    </tr>\n",
       "  </thead>\n",
       "  <tbody>\n",
       "    <tr>\n",
       "      <th>0</th>\n",
       "      <td>Huiles de Poissons</td>\n",
       "      <td>8972.553699</td>\n",
       "    </tr>\n",
       "    <tr>\n",
       "      <th>1</th>\n",
       "      <td>Huile de Sésame</td>\n",
       "      <td>8895.364238</td>\n",
       "    </tr>\n",
       "    <tr>\n",
       "      <th>2</th>\n",
       "      <td>Huiles de Foie de Poisso</td>\n",
       "      <td>8864.285714</td>\n",
       "    </tr>\n",
       "    <tr>\n",
       "      <th>3</th>\n",
       "      <td>Huile de Tournesol</td>\n",
       "      <td>8832.253532</td>\n",
       "    </tr>\n",
       "    <tr>\n",
       "      <th>4</th>\n",
       "      <td>Huile de Coco</td>\n",
       "      <td>8826.346928</td>\n",
       "    </tr>\n",
       "    <tr>\n",
       "      <th>5</th>\n",
       "      <td>Huile d'Arachide</td>\n",
       "      <td>8824.504863</td>\n",
       "    </tr>\n",
       "    <tr>\n",
       "      <th>6</th>\n",
       "      <td>Huile d'Olive</td>\n",
       "      <td>8818.437019</td>\n",
       "    </tr>\n",
       "    <tr>\n",
       "      <th>7</th>\n",
       "      <td>Graines Colza/Moutarde</td>\n",
       "      <td>8796.500000</td>\n",
       "    </tr>\n",
       "    <tr>\n",
       "      <th>8</th>\n",
       "      <td>Huile de Germe de Maïs</td>\n",
       "      <td>8796.044326</td>\n",
       "    </tr>\n",
       "    <tr>\n",
       "      <th>9</th>\n",
       "      <td>Huile de Palme</td>\n",
       "      <td>8791.075429</td>\n",
       "    </tr>\n",
       "  </tbody>\n",
       "</table></div>"
      ],
      "text/plain": [
       "                    Produit  ratio_kcal_kg\n",
       "0        Huiles de Poissons    8972.553699\n",
       "1           Huile de Sésame    8895.364238\n",
       "2  Huiles de Foie de Poisso    8864.285714\n",
       "3        Huile de Tournesol    8832.253532\n",
       "4             Huile de Coco    8826.346928\n",
       "5          Huile d'Arachide    8824.504863\n",
       "6             Huile d'Olive    8818.437019\n",
       "7    Graines Colza/Moutarde    8796.500000\n",
       "8    Huile de Germe de Maïs    8796.044326\n",
       "9            Huile de Palme    8791.075429"
      ]
     },
     "execution_count": 87,
     "metadata": {},
     "output_type": "execute_result"
    }
   ],
   "source": [
    "dap3.head(10)"
   ]
  },
  {
   "cell_type": "code",
   "execution_count": 88,
   "id": "c0105e1b",
   "metadata": {},
   "outputs": [],
   "source": [
    "dap4=dap['Disponibilité de protéines en quantité (g/personne/jour)']*365*0.001/dap['Disponibilité alimentaire en quantité (kg/personne/an)']"
   ]
  },
  {
   "cell_type": "code",
   "execution_count": 89,
   "id": "4deab58a",
   "metadata": {},
   "outputs": [],
   "source": [
    "dap5=pd.concat([dap,dap4],axis=1)"
   ]
  },
  {
   "cell_type": "code",
   "execution_count": 90,
   "id": "192282de",
   "metadata": {},
   "outputs": [],
   "source": [
    "dap5.rename(columns={0 : 'ratio_protéines'},inplace=True)"
   ]
  },
  {
   "cell_type": "code",
   "execution_count": 91,
   "id": "fc9c194e",
   "metadata": {},
   "outputs": [],
   "source": [
    "dap6=dap5[[\"ratio_protéines\"]].sort_values(by=\"ratio_protéines\", ascending=False)"
   ]
  },
  {
   "cell_type": "code",
   "execution_count": 92,
   "id": "c17b8802",
   "metadata": {},
   "outputs": [],
   "source": [
    "dap6=dap6.drop(dap6.index[0],0)"
   ]
  },
  {
   "cell_type": "code",
   "execution_count": 93,
   "id": "6c3da977",
   "metadata": {},
   "outputs": [],
   "source": [
    "dap6=dap6.reset_index()"
   ]
  },
  {
   "cell_type": "code",
   "execution_count": 94,
   "id": "759657a1",
   "metadata": {},
   "outputs": [
    {
     "data": {
      "text/html": [
       "<div><div id=77387ae8-ee76-43eb-96b3-5649dc19bfcd style=\"display:none; background-color:#9D6CFF; color:white; width:200px; height:30px; padding-left:5px; border-radius:4px; flex-direction:row; justify-content:space-around; align-items:center;\" onmouseover=\"this.style.backgroundColor='#BA9BF8'\" onmouseout=\"this.style.backgroundColor='#9D6CFF'\" onclick=\"window.commands?.execute('create-mitosheet-from-dataframe-output');\">See Full Dataframe in Mito</div> <script> if (window.commands.hasCommand('create-mitosheet-from-dataframe-output')) document.getElementById('77387ae8-ee76-43eb-96b3-5649dc19bfcd').style.display = 'flex' </script> <table border=\"1\" class=\"dataframe\">\n",
       "  <thead>\n",
       "    <tr style=\"text-align: right;\">\n",
       "      <th></th>\n",
       "      <th>Produit</th>\n",
       "      <th>ratio_protéines</th>\n",
       "    </tr>\n",
       "  </thead>\n",
       "  <tbody>\n",
       "    <tr>\n",
       "      <th>0</th>\n",
       "      <td>Soja</td>\n",
       "      <td>0.315011</td>\n",
       "    </tr>\n",
       "    <tr>\n",
       "      <th>1</th>\n",
       "      <td>Arachides Decortiquees</td>\n",
       "      <td>0.241687</td>\n",
       "    </tr>\n",
       "    <tr>\n",
       "      <th>2</th>\n",
       "      <td>Pois</td>\n",
       "      <td>0.223849</td>\n",
       "    </tr>\n",
       "    <tr>\n",
       "      <th>3</th>\n",
       "      <td>Légumineuses Autres</td>\n",
       "      <td>0.219352</td>\n",
       "    </tr>\n",
       "    <tr>\n",
       "      <th>4</th>\n",
       "      <td>Haricots</td>\n",
       "      <td>0.217877</td>\n",
       "    </tr>\n",
       "    <tr>\n",
       "      <th>5</th>\n",
       "      <td>Sésame</td>\n",
       "      <td>0.178287</td>\n",
       "    </tr>\n",
       "    <tr>\n",
       "      <th>6</th>\n",
       "      <td>Abats Comestible</td>\n",
       "      <td>0.177614</td>\n",
       "    </tr>\n",
       "    <tr>\n",
       "      <th>7</th>\n",
       "      <td>Viande, Autre</td>\n",
       "      <td>0.175529</td>\n",
       "    </tr>\n",
       "    <tr>\n",
       "      <th>8</th>\n",
       "      <td>Plantes Oleiferes, Autre</td>\n",
       "      <td>0.174664</td>\n",
       "    </tr>\n",
       "    <tr>\n",
       "      <th>9</th>\n",
       "      <td>Aliments pour enfants</td>\n",
       "      <td>0.152186</td>\n",
       "    </tr>\n",
       "  </tbody>\n",
       "</table></div>"
      ],
      "text/plain": [
       "                    Produit  ratio_protéines\n",
       "0                      Soja         0.315011\n",
       "1    Arachides Decortiquees         0.241687\n",
       "2                      Pois         0.223849\n",
       "3       Légumineuses Autres         0.219352\n",
       "4                  Haricots         0.217877\n",
       "5                    Sésame         0.178287\n",
       "6          Abats Comestible         0.177614\n",
       "7             Viande, Autre         0.175529\n",
       "8  Plantes Oleiferes, Autre         0.174664\n",
       "9     Aliments pour enfants         0.152186"
      ]
     },
     "execution_count": 94,
     "metadata": {},
     "output_type": "execute_result"
    }
   ],
   "source": [
    "dap6.head(10)"
   ]
  },
  {
   "cell_type": "code",
   "execution_count": 95,
   "id": "614d1dfb",
   "metadata": {},
   "outputs": [
    {
     "data": {
      "text/plain": [
       "1.5409519616286186e+16"
      ]
     },
     "execution_count": 95,
     "metadata": {},
     "output_type": "execute_result"
    }
   ],
   "source": [
    "(dap2['Disponibilité intérieure']*1000*1000*dap2['ratio_kcal_kg']).sum()"
   ]
  },
  {
   "cell_type": "markdown",
   "id": "1953c955",
   "metadata": {},
   "source": [
    "La disponibilité intérieure mondiale est de 1.54e+16 kcal.\n"
   ]
  },
  {
   "cell_type": "code",
   "execution_count": 96,
   "id": "e196f584",
   "metadata": {},
   "outputs": [
    {
     "data": {
      "text/plain": [
       "437395.1325962672"
      ]
     },
     "execution_count": 96,
     "metadata": {},
     "output_type": "execute_result"
    }
   ],
   "source": [
    "(dap5['Disponibilité intérieure']*dap5['ratio_protéines']).sum()"
   ]
  },
  {
   "cell_type": "markdown",
   "id": "a7901e1c",
   "metadata": {},
   "source": [
    "La disponibilité intérieure mondiale est de 437395.1 milliers de Tonnes de protéines."
   ]
  },
  {
   "cell_type": "code",
   "execution_count": 97,
   "id": "7d918903",
   "metadata": {},
   "outputs": [
    {
     "data": {
      "text/plain": [
       "19972380483.847816"
      ]
     },
     "execution_count": 97,
     "metadata": {},
     "output_type": "execute_result"
    }
   ],
   "source": [
    "(dap5['Disponibilité intérieure']*dap5['ratio_protéines']).sum()*1000*1000*1000/(60*365) #60g de protéines pour un humain en moyenne par jour"
   ]
  },
  {
   "cell_type": "code",
   "execution_count": 98,
   "id": "2e39c8be",
   "metadata": {},
   "outputs": [
    {
     "data": {
      "text/plain": [
       "18355592157.57735"
      ]
     },
     "execution_count": 98,
     "metadata": {},
     "output_type": "execute_result"
    }
   ],
   "source": [
    "(dap2['Disponibilité intérieure']*1000*1000*dap2['ratio_kcal_kg']).sum()/(2300*365) #2300 kcal pour un humain en moyenne par jour"
   ]
  },
  {
   "cell_type": "markdown",
   "id": "5095c9fe",
   "metadata": {},
   "source": [
    "Si toute la disponibilité intérieure animale et végétale de 2017 était destinée à l'alimentation humaine :\n",
    "   - l'équivalent en calories permettrait de nourrir 18.4 milliards de personnes.\n",
    "   - l'équivalent en protéines permettrait de nourrir 20.0 milliards de personnes.\n"
   ]
  },
  {
   "cell_type": "code",
   "execution_count": 99,
   "id": "9ce84aa4",
   "metadata": {},
   "outputs": [
    {
     "data": {
      "text/plain": [
       "13866693387.934536"
      ]
     },
     "execution_count": 99,
     "metadata": {},
     "output_type": "execute_result"
    }
   ],
   "source": [
    "((dap5['Nourriture']*dap5['ratio_protéines']).sum()*1000*1000*1000/(60*365)\n",
    "+(dap5['Aliments pour animaux']*dap5['ratio_protéines']).sum()*1000*1000*1000/(60*365)\n",
    "+(dap5['Pertes']*dap5['ratio_protéines']).sum()*1000*1000*1000/(60*365))"
   ]
  },
  {
   "cell_type": "code",
   "execution_count": 100,
   "id": "7315bb22",
   "metadata": {},
   "outputs": [
    {
     "data": {
      "text/plain": [
       "12873275519.055834"
      ]
     },
     "execution_count": 100,
     "metadata": {},
     "output_type": "execute_result"
    }
   ],
   "source": [
    "((dap2['Nourriture']*1000*1000*dap2['ratio_kcal_kg']).sum()/(2300*365)\n",
    " +(dap2['Aliments pour animaux']*1000*1000*dap2['ratio_kcal_kg']).sum()/(2300*365)\n",
    " +(dap2['Pertes']*1000*1000*dap2['ratio_kcal_kg']).sum()/(2300*365))"
   ]
  },
  {
   "cell_type": "markdown",
   "id": "92f19f41",
   "metadata": {},
   "source": [
    "Si toute la production animale et végétale de 2017 vouée à l'alimentation (humaines et animales + pertes) était destinée à l'alimentation humaine :\n",
    "   - l'équivalent en calories permettrait de nourrir 12.9 milliards de personnes.\n",
    "   - l'équivalent en protéines permettrait de nourrir 13.9 milliards de personnes.\n",
    "\n"
   ]
  },
  {
   "cell_type": "code",
   "execution_count": 101,
   "id": "0e332174",
   "metadata": {},
   "outputs": [
    {
     "data": {
      "text/plain": [
       "8596888013.28631"
      ]
     },
     "execution_count": 101,
     "metadata": {},
     "output_type": "execute_result"
    }
   ],
   "source": [
    "(dap2['Nourriture']*1000*1000*dap2['ratio_kcal_kg']).sum()/(2300*365)"
   ]
  },
  {
   "cell_type": "code",
   "execution_count": 102,
   "id": "9a2f9d68",
   "metadata": {},
   "outputs": [
    {
     "data": {
      "text/plain": [
       "9292952672.782799"
      ]
     },
     "execution_count": 102,
     "metadata": {},
     "output_type": "execute_result"
    }
   ],
   "source": [
    "(dap5['Nourriture']*dap5['ratio_protéines']).sum()*1000*1000*1000/(60*365)"
   ]
  },
  {
   "cell_type": "markdown",
   "id": "7cb7d090",
   "metadata": {},
   "source": [
    "Concernant la nourriture disponible à l'alimentation humaine en 2017 :\n",
    "   - l'équivalent en calories permettrait de nourrir 8.6 milliards de personnes.\n",
    "   - l'équivalent en protéines permettrait de nourrir 9.3 milliards de personnes.\n",
    "\n",
    "\n"
   ]
  },
  {
   "cell_type": "code",
   "execution_count": 103,
   "id": "5868651f",
   "metadata": {},
   "outputs": [],
   "source": [
    "dap10=da.groupby(['Origine','Produit']).sum().reset_index()"
   ]
  },
  {
   "cell_type": "code",
   "execution_count": 104,
   "id": "b52e04e4",
   "metadata": {},
   "outputs": [],
   "source": [
    "dap11=dap10['Disponibilité alimentaire (Kcal/personne/jour)']*365/dap10['Disponibilité alimentaire en quantité (kg/personne/an)']"
   ]
  },
  {
   "cell_type": "code",
   "execution_count": 105,
   "id": "bfa34a1b",
   "metadata": {},
   "outputs": [],
   "source": [
    "dap12=pd.concat([dap10,dap11],axis=1)"
   ]
  },
  {
   "cell_type": "code",
   "execution_count": 106,
   "id": "ef3b59fd",
   "metadata": {},
   "outputs": [],
   "source": [
    "dap12.rename(columns={0:'ratio_kcal_kg'},inplace=True)"
   ]
  },
  {
   "cell_type": "code",
   "execution_count": 107,
   "id": "8d1be2f9",
   "metadata": {},
   "outputs": [],
   "source": [
    "dap13=dap10['Disponibilité de protéines en quantité (g/personne/jour)']*365*0.001/dap10['Disponibilité alimentaire en quantité (kg/personne/an)']"
   ]
  },
  {
   "cell_type": "code",
   "execution_count": 108,
   "id": "336f2a1c",
   "metadata": {},
   "outputs": [],
   "source": [
    "dap14=pd.concat([dap12,dap13],axis=1)"
   ]
  },
  {
   "cell_type": "code",
   "execution_count": 109,
   "id": "246536fd",
   "metadata": {},
   "outputs": [],
   "source": [
    "dap14.rename(columns={0:'ratio_protéines'},inplace=True)"
   ]
  },
  {
   "cell_type": "code",
   "execution_count": 110,
   "id": "dce48503",
   "metadata": {},
   "outputs": [],
   "source": [
    "dap14=dap14[dap14['Origine']=='vegetale']"
   ]
  },
  {
   "cell_type": "code",
   "execution_count": 111,
   "id": "b607f0ec",
   "metadata": {},
   "outputs": [
    {
     "data": {
      "text/plain": [
       "1.3964651377989772e+16"
      ]
     },
     "execution_count": 111,
     "metadata": {},
     "output_type": "execute_result"
    }
   ],
   "source": [
    "(dap14['Disponibilité intérieure']*1000*1000*dap14['ratio_kcal_kg']).sum()"
   ]
  },
  {
   "cell_type": "code",
   "execution_count": 112,
   "id": "0bf29d16",
   "metadata": {},
   "outputs": [
    {
     "data": {
      "text/plain": [
       "347138.6929581549"
      ]
     },
     "execution_count": 112,
     "metadata": {},
     "output_type": "execute_result"
    }
   ],
   "source": [
    "(dap14['Disponibilité intérieure']*dap14['ratio_protéines']).sum()"
   ]
  },
  {
   "cell_type": "markdown",
   "id": "e77ba01d",
   "metadata": {},
   "source": [
    "La disponibilité intérieure est de 1.40e+16 kcal avec le végétale."
   ]
  },
  {
   "cell_type": "markdown",
   "id": "22163995",
   "metadata": {},
   "source": [
    "La disponibilité intérieure est de 347138.7 milliers de Tonnes de protéines avec le végétale."
   ]
  },
  {
   "cell_type": "code",
   "execution_count": 113,
   "id": "4c24e48c",
   "metadata": {},
   "outputs": [
    {
     "data": {
      "text/plain": [
       "15851081870.235386"
      ]
     },
     "execution_count": 113,
     "metadata": {},
     "output_type": "execute_result"
    }
   ],
   "source": [
    "(dap14['Disponibilité intérieure']*dap14['ratio_protéines']).sum()*1000*1000*1000/(60*365)"
   ]
  },
  {
   "cell_type": "code",
   "execution_count": 114,
   "id": "08f10a04",
   "metadata": {},
   "outputs": [
    {
     "data": {
      "text/plain": [
       "16634486453.82939"
      ]
     },
     "execution_count": 114,
     "metadata": {},
     "output_type": "execute_result"
    }
   ],
   "source": [
    "(dap14['Disponibilité intérieure']*1000*1000*dap14['ratio_kcal_kg']).sum()/(2300*365)"
   ]
  },
  {
   "cell_type": "markdown",
   "id": "e615668a",
   "metadata": {},
   "source": [
    "Si toute la disponibilité intérieure végétale de 2017 était destinée à l'alimentation humaine :\n",
    "   - l'équivalent en calories permettrait de nourrir 16.6 milliards de personnes.\n",
    "   - l'équivalent en protéines permettrait de nourrir 15.9 milliards de personnes."
   ]
  },
  {
   "cell_type": "code",
   "execution_count": 115,
   "id": "4b1bb623",
   "metadata": {},
   "outputs": [
    {
     "data": {
      "text/plain": [
       "9856086312.01566"
      ]
     },
     "execution_count": 115,
     "metadata": {},
     "output_type": "execute_result"
    }
   ],
   "source": [
    "((dap14['Aliments pour animaux']*dap14['ratio_protéines']).sum()*1000*1000*1000/(60*365)\n",
    "+(dap14['Pertes']*dap14['ratio_protéines']).sum()*1000*1000*1000/(60*365)\n",
    "+(dap14['Nourriture']*dap14['ratio_protéines']).sum()*1000*1000*1000/(60*365))"
   ]
  },
  {
   "cell_type": "code",
   "execution_count": 116,
   "id": "3a5b16fb",
   "metadata": {},
   "outputs": [
    {
     "data": {
      "text/plain": [
       "11284564945.906628"
      ]
     },
     "execution_count": 116,
     "metadata": {},
     "output_type": "execute_result"
    }
   ],
   "source": [
    "((dap14['Aliments pour animaux']*1000*1000*dap14['ratio_kcal_kg']).sum()/(2300*365)\n",
    "+(dap14['Nourriture']*1000*1000*dap14['ratio_kcal_kg']).sum()/(2300*365)\n",
    "+(dap14['Pertes']*1000*1000*dap14['ratio_kcal_kg']).sum()/(2300*365))"
   ]
  },
  {
   "cell_type": "markdown",
   "id": "b9ee1d6b",
   "metadata": {},
   "source": [
    "Si toute la production végétale de 2017 vouée à l'alimentation (humaines et animales + pertes) était destinée à l'alimentation humaine :\n",
    "   - l'équivalent en calories permettrait de nourrir 11.3 milliards de personnes.\n",
    "   - l'équivalent en protéines permettrait de nourrir 9.9 milliards de personnes."
   ]
  },
  {
   "cell_type": "code",
   "execution_count": 117,
   "id": "d31bbc87",
   "metadata": {},
   "outputs": [
    {
     "data": {
      "text/plain": [
       "5591029765.471478"
      ]
     },
     "execution_count": 117,
     "metadata": {},
     "output_type": "execute_result"
    }
   ],
   "source": [
    "(dap14['Nourriture']*dap14['ratio_protéines']).sum()*1000*1000*1000/(60*365)"
   ]
  },
  {
   "cell_type": "code",
   "execution_count": 118,
   "id": "71b046fc",
   "metadata": {},
   "outputs": [
    {
     "data": {
      "text/plain": [
       "7126936675.09793"
      ]
     },
     "execution_count": 118,
     "metadata": {},
     "output_type": "execute_result"
    }
   ],
   "source": [
    "(dap14['Nourriture']*1000*1000*dap14['ratio_kcal_kg']).sum()/(2300*365)"
   ]
  },
  {
   "cell_type": "markdown",
   "id": "8e99ae97",
   "metadata": {},
   "source": [
    "Concernant la nourriture disponible à l'alimentation humaine avec le végétale en 2017 :\n",
    "\n",
    "   - l'équivalent en calories permettrait de nourrir 7.1 milliards de personnes.\n",
    "   - l'équivalent en protéines permettrait de nourrir 5.6 milliards de personnes.\n",
    "\n"
   ]
  },
  {
   "cell_type": "markdown",
   "id": "ab964f31",
   "metadata": {},
   "source": [
    "# Recherche de la population humaine qu'on pourrait nourrir avec les céréales et recherche de la proportion de chaque type de céréales destinée à l'alimentation humaine"
   ]
  },
  {
   "cell_type": "code",
   "execution_count": 119,
   "id": "3225cb48",
   "metadata": {},
   "outputs": [],
   "source": [
    "cereales2=cereales.drop(columns='Année')"
   ]
  },
  {
   "cell_type": "code",
   "execution_count": 120,
   "id": "9f53c1f6",
   "metadata": {},
   "outputs": [
    {
     "data": {
      "text/plain": [
       "945984.0"
      ]
     },
     "execution_count": 120,
     "metadata": {},
     "output_type": "execute_result"
    }
   ],
   "source": [
    "cereales2[cereales2['Élément']=='Aliments pour animaux'].sum().Valeur"
   ]
  },
  {
   "cell_type": "markdown",
   "id": "41e82930",
   "metadata": {},
   "source": [
    "En 2017 , l'élevage a consommé 945984 milliers de tonnes de céréales."
   ]
  },
  {
   "cell_type": "code",
   "execution_count": 121,
   "id": "d553eba9",
   "metadata": {},
   "outputs": [
    {
     "data": {
      "text/plain": [
       "1288926.0"
      ]
     },
     "execution_count": 121,
     "metadata": {},
     "output_type": "execute_result"
    }
   ],
   "source": [
    "cereales2[cereales2['Élément']=='Nourriture'].sum().Valeur"
   ]
  },
  {
   "cell_type": "markdown",
   "id": "78e003b6",
   "metadata": {},
   "source": [
    "En 2017 , l'humain a consommé 1288926 milliers de tonnes de céréales."
   ]
  },
  {
   "cell_type": "code",
   "execution_count": 122,
   "id": "104a9eb8",
   "metadata": {},
   "outputs": [
    {
     "data": {
      "text/plain": [
       "2234910.0"
      ]
     },
     "execution_count": 122,
     "metadata": {},
     "output_type": "execute_result"
    }
   ],
   "source": [
    "cereales2[cereales2['Élément']=='Aliments pour animaux'].sum().Valeur+cereales2[cereales2['Élément']=='Nourriture'].sum().Valeur"
   ]
  },
  {
   "cell_type": "markdown",
   "id": "870618f8",
   "metadata": {},
   "source": [
    "En 2017 , l'humain et l'élevage ont consommé 2234910 milliers de tonnes de céreales."
   ]
  },
  {
   "cell_type": "code",
   "execution_count": 123,
   "id": "654cd30f",
   "metadata": {},
   "outputs": [],
   "source": [
    "liste1=['Avoine','Blé et produits','Céréales, Autres','Maïs et produits','Millet et produits','Orge et produits','Riz et produits','Seigle et produits','Sorgho et produits']\n"
   ]
  },
  {
   "cell_type": "code",
   "execution_count": 124,
   "id": "f62248a8",
   "metadata": {},
   "outputs": [
    {
     "name": "stdout",
     "output_type": "stream",
     "text": [
      "Avoine: 21.969594%\n",
      "Blé et produits: 79.599640%\n",
      "Céréales, Autres: 25.707763%\n",
      "Maïs et produits: 18.407738%\n",
      "Millet et produits: 86.210667%\n",
      "Orge et produits: 8.420327%\n",
      "Riz et produits: 92.994416%\n",
      "Seigle et produits: 41.122494%\n",
      "Sorgho et produits: 55.056318%\n"
     ]
    }
   ],
   "source": [
    "for d in liste1:\n",
    "     print('%s: %f' %(d,cereales2[(cereales2['Produit']== d) & (cereales2['Élément']=='Nourriture')].sum().Valeur/(cereales2[(cereales2['Produit']== d) & (cereales2['Élément']=='Aliments pour animaux')].sum().Valeur+cereales2[(cereales2['Produit']== d) & (cereales2['Élément']=='Nourriture')].sum().Valeur)*100)+'%')"
   ]
  },
  {
   "cell_type": "markdown",
   "id": "a00a3e7f",
   "metadata": {},
   "source": [
    "- Proportion de Mais déstinée à l'alimentation humaine : 18%\n",
    "\n",
    "\n",
    "- Proportion d'Orge déstinée à l'alimentation humaine : 8%\n",
    "\n",
    "\n",
    "- Proportion d'Avoine déstinée à l'alimentation humaine : 22%\n",
    "\n",
    "\n",
    "- Proportion de Céréales,Autres déstinée à l'alimentation humaine : 26%\n",
    "\n",
    "\n",
    "- Proportion de Seigle déstinée à l'alimentation humaine : 41%\n",
    "\n",
    "\n",
    "- Proportion de Sorgho déstinée à l'alimentation humaine : 55%\n",
    "\n",
    "\n",
    "- Proportion de Blé déstinée à l'alimentation humaine : 80%\n",
    "\n",
    "\n",
    "- Proportion de Millet déstinée à l'alimentation humaine : 86%\n",
    "\n",
    "\n",
    "- Proportion de Riz déstinée à l'alimentation humaine : 93%\n",
    "\n",
    "\n",
    "Le Sorgho , le Blé , le Millet et le Riz sont majoritairement utilisé pour l'alimentation humaine."
   ]
  },
  {
   "cell_type": "code",
   "execution_count": 125,
   "id": "69293198",
   "metadata": {},
   "outputs": [
    {
     "data": {
      "text/html": [
       "<div><div id=c38d6b4d-6675-4fb1-824f-2466ec0de1a0 style=\"display:none; background-color:#9D6CFF; color:white; width:200px; height:30px; padding-left:5px; border-radius:4px; flex-direction:row; justify-content:space-around; align-items:center;\" onmouseover=\"this.style.backgroundColor='#BA9BF8'\" onmouseout=\"this.style.backgroundColor='#9D6CFF'\" onclick=\"window.commands?.execute('create-mitosheet-from-dataframe-output');\">See Full Dataframe in Mito</div> <script> if (window.commands.hasCommand('create-mitosheet-from-dataframe-output')) document.getElementById('c38d6b4d-6675-4fb1-824f-2466ec0de1a0').style.display = 'flex' </script> <table border=\"1\" class=\"dataframe\">\n",
       "  <thead>\n",
       "    <tr style=\"text-align: right;\">\n",
       "      <th></th>\n",
       "      <th>Domaine</th>\n",
       "      <th>Zone</th>\n",
       "      <th>Élément</th>\n",
       "      <th>Produit</th>\n",
       "      <th>Unité</th>\n",
       "      <th>Valeur</th>\n",
       "    </tr>\n",
       "  </thead>\n",
       "  <tbody>\n",
       "    <tr>\n",
       "      <th>0</th>\n",
       "      <td>Bilans Alimentaires (2014-)</td>\n",
       "      <td>Afghanistan</td>\n",
       "      <td>Production</td>\n",
       "      <td>Blé et produits</td>\n",
       "      <td>Milliers de tonnes</td>\n",
       "      <td>4281.00</td>\n",
       "    </tr>\n",
       "    <tr>\n",
       "      <th>1</th>\n",
       "      <td>Bilans Alimentaires (2014-)</td>\n",
       "      <td>Afghanistan</td>\n",
       "      <td>Importations - Quantité</td>\n",
       "      <td>Blé et produits</td>\n",
       "      <td>Milliers de tonnes</td>\n",
       "      <td>3080.00</td>\n",
       "    </tr>\n",
       "    <tr>\n",
       "      <th>2</th>\n",
       "      <td>Bilans Alimentaires (2014-)</td>\n",
       "      <td>Afghanistan</td>\n",
       "      <td>Variation de stock</td>\n",
       "      <td>Blé et produits</td>\n",
       "      <td>Milliers de tonnes</td>\n",
       "      <td>32.00</td>\n",
       "    </tr>\n",
       "    <tr>\n",
       "      <th>3</th>\n",
       "      <td>Bilans Alimentaires (2014-)</td>\n",
       "      <td>Afghanistan</td>\n",
       "      <td>Exportations - Quantité</td>\n",
       "      <td>Blé et produits</td>\n",
       "      <td>Milliers de tonnes</td>\n",
       "      <td>2.00</td>\n",
       "    </tr>\n",
       "    <tr>\n",
       "      <th>4</th>\n",
       "      <td>Bilans Alimentaires (2014-)</td>\n",
       "      <td>Afghanistan</td>\n",
       "      <td>Disponibilité intérieure</td>\n",
       "      <td>Blé et produits</td>\n",
       "      <td>Milliers de tonnes</td>\n",
       "      <td>7326.00</td>\n",
       "    </tr>\n",
       "    <tr>\n",
       "      <th>...</th>\n",
       "      <td>...</td>\n",
       "      <td>...</td>\n",
       "      <td>...</td>\n",
       "      <td>...</td>\n",
       "      <td>...</td>\n",
       "      <td>...</td>\n",
       "    </tr>\n",
       "    <tr>\n",
       "      <th>19513</th>\n",
       "      <td>Bilans Alimentaires (2014-)</td>\n",
       "      <td>Zimbabwe</td>\n",
       "      <td>Nourriture</td>\n",
       "      <td>Céréales, Autres</td>\n",
       "      <td>Milliers de tonnes</td>\n",
       "      <td>3.00</td>\n",
       "    </tr>\n",
       "    <tr>\n",
       "      <th>19514</th>\n",
       "      <td>Bilans Alimentaires (2014-)</td>\n",
       "      <td>Zimbabwe</td>\n",
       "      <td>Disponibilité alimentaire en quantité (kg/personne/an)</td>\n",
       "      <td>Céréales, Autres</td>\n",
       "      <td>kg</td>\n",
       "      <td>0.20</td>\n",
       "    </tr>\n",
       "    <tr>\n",
       "      <th>19515</th>\n",
       "      <td>Bilans Alimentaires (2014-)</td>\n",
       "      <td>Zimbabwe</td>\n",
       "      <td>Disponibilité alimentaire (Kcal/personne/jour)</td>\n",
       "      <td>Céréales, Autres</td>\n",
       "      <td>Kcal/personne/jour</td>\n",
       "      <td>2.00</td>\n",
       "    </tr>\n",
       "    <tr>\n",
       "      <th>19516</th>\n",
       "      <td>Bilans Alimentaires (2014-)</td>\n",
       "      <td>Zimbabwe</td>\n",
       "      <td>Disponibilité de protéines en quantité (g/personne/jour)</td>\n",
       "      <td>Céréales, Autres</td>\n",
       "      <td>g/personne/jour</td>\n",
       "      <td>0.05</td>\n",
       "    </tr>\n",
       "    <tr>\n",
       "      <th>19517</th>\n",
       "      <td>Bilans Alimentaires (2014-)</td>\n",
       "      <td>Zimbabwe</td>\n",
       "      <td>Disponibilité de matière grasse en quantité (g/personne/jour)</td>\n",
       "      <td>Céréales, Autres</td>\n",
       "      <td>g/personne/jour</td>\n",
       "      <td>0.01</td>\n",
       "    </tr>\n",
       "  </tbody>\n",
       "</table></div>"
      ],
      "text/plain": [
       "                           Domaine         Zone  \\\n",
       "0      Bilans Alimentaires (2014-)  Afghanistan   \n",
       "1      Bilans Alimentaires (2014-)  Afghanistan   \n",
       "2      Bilans Alimentaires (2014-)  Afghanistan   \n",
       "3      Bilans Alimentaires (2014-)  Afghanistan   \n",
       "4      Bilans Alimentaires (2014-)  Afghanistan   \n",
       "...                            ...          ...   \n",
       "19513  Bilans Alimentaires (2014-)     Zimbabwe   \n",
       "19514  Bilans Alimentaires (2014-)     Zimbabwe   \n",
       "19515  Bilans Alimentaires (2014-)     Zimbabwe   \n",
       "19516  Bilans Alimentaires (2014-)     Zimbabwe   \n",
       "19517  Bilans Alimentaires (2014-)     Zimbabwe   \n",
       "\n",
       "                                                 Élément           Produit  \\\n",
       "0                                             Production   Blé et produits   \n",
       "1                                Importations - Quantité   Blé et produits   \n",
       "2                                     Variation de stock   Blé et produits   \n",
       "3                                Exportations - Quantité   Blé et produits   \n",
       "4                               Disponibilité intérieure   Blé et produits   \n",
       "...                                                  ...               ...   \n",
       "19513                                         Nourriture  Céréales, Autres   \n",
       "19514  Disponibilité alimentaire en quantité (kg/pers...  Céréales, Autres   \n",
       "19515     Disponibilité alimentaire (Kcal/personne/jour)  Céréales, Autres   \n",
       "19516  Disponibilité de protéines en quantité (g/pers...  Céréales, Autres   \n",
       "19517  Disponibilité de matière grasse en quantité (g...  Céréales, Autres   \n",
       "\n",
       "                    Unité   Valeur  \n",
       "0      Milliers de tonnes  4281.00  \n",
       "1      Milliers de tonnes  3080.00  \n",
       "2      Milliers de tonnes    32.00  \n",
       "3      Milliers de tonnes     2.00  \n",
       "4      Milliers de tonnes  7326.00  \n",
       "...                   ...      ...  \n",
       "19513  Milliers de tonnes     3.00  \n",
       "19514                  kg     0.20  \n",
       "19515  Kcal/personne/jour     2.00  \n",
       "19516     g/personne/jour     0.05  \n",
       "19517     g/personne/jour     0.01  \n",
       "\n",
       "[19077 rows x 6 columns]"
      ]
     },
     "execution_count": 125,
     "metadata": {},
     "output_type": "execute_result"
    }
   ],
   "source": [
    "cereales2"
   ]
  },
  {
   "cell_type": "code",
   "execution_count": 126,
   "id": "27540f4b",
   "metadata": {},
   "outputs": [],
   "source": [
    "cereales4=cereales2.groupby(['Produit']).sum()"
   ]
  },
  {
   "cell_type": "code",
   "execution_count": 127,
   "id": "bd1fe115",
   "metadata": {},
   "outputs": [],
   "source": [
    "cereales4=cereales4.reset_index()"
   ]
  },
  {
   "cell_type": "code",
   "execution_count": 128,
   "id": "b2310491",
   "metadata": {},
   "outputs": [],
   "source": [
    "cereales4=cereales4['Produit'].replace(['Blé et produits','Maïs et produits','Millet et produits','Orge et produits','Riz et produits','Seigle et produits','Sorgho et produits'],['Blé','Maïs','Millet','Orge','Riz (Eq Blanchi)','Seigle','Sorgho'])"
   ]
  },
  {
   "cell_type": "code",
   "execution_count": 129,
   "id": "a6a4c03d",
   "metadata": {},
   "outputs": [],
   "source": [
    "cereales5=dap14.merge(cereales4,left_on='Produit',right_on='Produit')"
   ]
  },
  {
   "cell_type": "code",
   "execution_count": 130,
   "id": "82863a12",
   "metadata": {},
   "outputs": [
    {
     "data": {
      "text/plain": [
       "8749789646.200575"
      ]
     },
     "execution_count": 130,
     "metadata": {},
     "output_type": "execute_result"
    }
   ],
   "source": [
    "(cereales5['Disponibilité intérieure']*1000*1000*cereales5['ratio_kcal_kg']).sum()/(2300*365)"
   ]
  },
  {
   "cell_type": "code",
   "execution_count": 131,
   "id": "5039e864",
   "metadata": {},
   "outputs": [
    {
     "data": {
      "text/plain": [
       "8451587756.059581"
      ]
     },
     "execution_count": 131,
     "metadata": {},
     "output_type": "execute_result"
    }
   ],
   "source": [
    "(cereales5['Disponibilité intérieure']*cereales5['ratio_protéines']).sum()*1000*1000*1000/(60*365)"
   ]
  },
  {
   "cell_type": "markdown",
   "id": "69d8a1a9",
   "metadata": {},
   "source": [
    "Si toute la production de céréales de 2017 était destinée à l'alimentation humaine :\n",
    "\n",
    "   - l'équivalent en calories permettrait de nourrir 8.7 milliards de personnes.\n",
    "   - l'équivalent en protéines permettrait de nourrir 8.5 milliards de personnes."
   ]
  },
  {
   "cell_type": "code",
   "execution_count": 132,
   "id": "4573c4ef",
   "metadata": {},
   "outputs": [
    {
     "data": {
      "text/plain": [
       "7323804867.101939"
      ]
     },
     "execution_count": 132,
     "metadata": {},
     "output_type": "execute_result"
    }
   ],
   "source": [
    "((cereales5['Aliments pour animaux']*1000*1000*cereales5['ratio_kcal_kg']).sum()/(2300*365)\n",
    "+(cereales5['Nourriture']*1000*1000*cereales5['ratio_kcal_kg']).sum()/(2300*365)\n",
    "+(cereales5['Pertes']*1000*1000*cereales5['ratio_kcal_kg']).sum()/(2300*365))"
   ]
  },
  {
   "cell_type": "code",
   "execution_count": 133,
   "id": "8c66780f",
   "metadata": {},
   "outputs": [
    {
     "data": {
      "text/plain": [
       "7060889612.340363"
      ]
     },
     "execution_count": 133,
     "metadata": {},
     "output_type": "execute_result"
    }
   ],
   "source": [
    "((cereales5['Aliments pour animaux']*cereales5['ratio_protéines']).sum()*1000*1000*1000/(60*365)\n",
    "+(cereales5['Nourriture']*cereales5['ratio_protéines']).sum()*1000*1000*1000/(60*365)\n",
    "+(cereales5['Pertes']*cereales5['ratio_protéines']).sum()*1000*1000*1000/(60*365))"
   ]
  },
  {
   "cell_type": "markdown",
   "id": "a6e3d5fa",
   "metadata": {},
   "source": [
    "Si toute la production de céréales de 2017 vouée à l'alimentation (Nourriture + Aliments pour animaux + Pertes) était destinée à l'alimentation humaine :\n",
    "\n",
    "   - l'équivalent en calories permettrait de nourrir 7.3 milliards de personnes.\n",
    "   - l'équivalent en protéines permettrait de nourrir 7.1 milliards de personnes.\n",
    "\n"
   ]
  },
  {
   "cell_type": "code",
   "execution_count": 134,
   "id": "59f7c7ba",
   "metadata": {},
   "outputs": [
    {
     "data": {
      "text/plain": [
       "3850531055.309389"
      ]
     },
     "execution_count": 134,
     "metadata": {},
     "output_type": "execute_result"
    }
   ],
   "source": [
    "(cereales5['Nourriture']*1000*1000*cereales5['ratio_kcal_kg']).sum()/(2300*365)"
   ]
  },
  {
   "cell_type": "code",
   "execution_count": 135,
   "id": "663333b2",
   "metadata": {},
   "outputs": [
    {
     "data": {
      "text/plain": [
       "3615729174.2895284"
      ]
     },
     "execution_count": 135,
     "metadata": {},
     "output_type": "execute_result"
    }
   ],
   "source": [
    "(cereales5['Nourriture']*cereales5['ratio_protéines']).sum()*1000*1000*1000/(60*365)"
   ]
  },
  {
   "cell_type": "markdown",
   "id": "35056f44",
   "metadata": {},
   "source": [
    "Concernant la nourriture disponible à l'alimentation humaine avec les céréales en 2017 :\n",
    "\n",
    "   - l'équivalent en calories permettrait de nourrir 3.9 milliards de personnes.\n",
    "   - l'équivalent en protéines permettrait de nourrir 3.6 milliards de personnes.\n",
    "\n"
   ]
  },
  {
   "cell_type": "markdown",
   "id": "cd5ebdbc",
   "metadata": {},
   "source": [
    "\n"
   ]
  }
 ],
 "metadata": {
  "kernelspec": {
   "display_name": "Python 3",
   "language": "python",
   "name": "python3"
  },
  "language_info": {
   "codemirror_mode": {
    "name": "ipython",
    "version": 3
   },
   "file_extension": ".py",
   "mimetype": "text/x-python",
   "name": "python",
   "nbconvert_exporter": "python",
   "pygments_lexer": "ipython3",
   "version": "3.8.8"
  },
  "toc": {
   "base_numbering": 1,
   "nav_menu": {},
   "number_sections": true,
   "sideBar": true,
   "skip_h1_title": false,
   "title_cell": "Table of Contents",
   "title_sidebar": "Contents",
   "toc_cell": false,
   "toc_position": {
    "height": "551.2px",
    "left": "498px",
    "top": "223.533px",
    "width": "281.6px"
   },
   "toc_section_display": true,
   "toc_window_display": true
  }
 },
 "nbformat": 4,
 "nbformat_minor": 5
}
